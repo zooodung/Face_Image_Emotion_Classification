{
  "nbformat": 4,
  "nbformat_minor": 0,
  "metadata": {
    "colab": {
      "provenance": [],
      "machine_shape": "hm",
      "gpuType": "A100",
      "include_colab_link": true
    },
    "kernelspec": {
      "name": "python3",
      "display_name": "Python 3"
    },
    "language_info": {
      "name": "python"
    },
    "accelerator": "GPU"
  },
  "cells": [
    {
      "cell_type": "markdown",
      "metadata": {
        "id": "view-in-github",
        "colab_type": "text"
      },
      "source": [
        "<a href=\"https://colab.research.google.com/github/zooodung/Face_Image_Emotion_Classification/blob/JS/FP_MODELING_ViT_b16.ipynb\" target=\"_parent\"><img src=\"https://colab.research.google.com/assets/colab-badge.svg\" alt=\"Open In Colab\"/></a>"
      ]
    },
    {
      "cell_type": "code",
      "source": [
        "from google.colab import drive\n",
        "drive.mount('/content/drive/')"
      ],
      "metadata": {
        "colab": {
          "base_uri": "https://localhost:8080/"
        },
        "id": "efLCD4qWyGUT",
        "outputId": "29c1e9ab-1bdd-46ab-8599-2d6995bb8475"
      },
      "execution_count": null,
      "outputs": [
        {
          "output_type": "stream",
          "name": "stdout",
          "text": [
            "Mounted at /content/drive/\n"
          ]
        }
      ]
    },
    {
      "cell_type": "code",
      "source": [
        "import zipfile\n",
        "import os\n",
        "\n",
        "def unzip_file(zip_file_path, extract_dir):\n",
        "    # 압축 파일 열기\n",
        "    with zipfile.ZipFile(zip_file_path, 'r') as zip_ref:\n",
        "        # 압축 해제\n",
        "        zip_ref.extractall(extract_dir)\n",
        "\n",
        "# 압축 파일 경로와 추출할 디렉토리 경로 지정\n",
        "zip_file_path = '/content/drive/MyDrive/Project/Data/img_preprocessed.zip'\n",
        "extract_dir = '/content/img_p'\n",
        "\n",
        "# 압축 파일 풀기\n",
        "unzip_file(zip_file_path, extract_dir)"
      ],
      "metadata": {
        "id": "vdBkjpsVyeSp"
      },
      "execution_count": null,
      "outputs": []
    },
    {
      "cell_type": "markdown",
      "source": [
        "### ViT_b16"
      ],
      "metadata": {
        "id": "8B3eXjpnUook"
      }
    },
    {
      "cell_type": "markdown",
      "source": [
        "### Import"
      ],
      "metadata": {
        "id": "H2lt-e2hUkyv"
      }
    },
    {
      "cell_type": "code",
      "source": [
        "!pip install vit_keras\n",
        "!pip install tensorflow-addons\n",
        "! pip install face_recognition\n",
        "! pip install imgaug\n",
        "! pip install dlib"
      ],
      "metadata": {
        "colab": {
          "base_uri": "https://localhost:8080/"
        },
        "id": "TCRA7NZAzU0k",
        "outputId": "e8bf1df2-1193-4f1c-c22f-47ed7f4a3259"
      },
      "execution_count": null,
      "outputs": [
        {
          "output_type": "stream",
          "name": "stdout",
          "text": [
            "Requirement already satisfied: vit_keras in /usr/local/lib/python3.10/dist-packages (0.1.2)\n",
            "Requirement already satisfied: scipy in /usr/local/lib/python3.10/dist-packages (from vit_keras) (1.11.4)\n",
            "Requirement already satisfied: validators in /usr/local/lib/python3.10/dist-packages (from vit_keras) (0.28.1)\n",
            "Requirement already satisfied: numpy<1.28.0,>=1.21.6 in /usr/local/lib/python3.10/dist-packages (from scipy->vit_keras) (1.25.2)\n",
            "Requirement already satisfied: tensorflow-addons in /usr/local/lib/python3.10/dist-packages (0.23.0)\n",
            "Requirement already satisfied: packaging in /usr/local/lib/python3.10/dist-packages (from tensorflow-addons) (24.0)\n",
            "Requirement already satisfied: typeguard<3.0.0,>=2.7 in /usr/local/lib/python3.10/dist-packages (from tensorflow-addons) (2.13.3)\n",
            "Collecting face_recognition\n",
            "  Downloading face_recognition-1.3.0-py2.py3-none-any.whl (15 kB)\n",
            "Collecting face-recognition-models>=0.3.0 (from face_recognition)\n",
            "  Downloading face_recognition_models-0.3.0.tar.gz (100.1 MB)\n",
            "\u001b[2K     \u001b[90m━━━━━━━━━━━━━━━━━━━━━━━━━━━━━━━━━━━━━━━━\u001b[0m \u001b[32m100.1/100.1 MB\u001b[0m \u001b[31m13.2 MB/s\u001b[0m eta \u001b[36m0:00:00\u001b[0m\n",
            "\u001b[?25h  Preparing metadata (setup.py) ... \u001b[?25l\u001b[?25hdone\n",
            "Requirement already satisfied: Click>=6.0 in /usr/local/lib/python3.10/dist-packages (from face_recognition) (8.1.7)\n",
            "Requirement already satisfied: dlib>=19.7 in /usr/local/lib/python3.10/dist-packages (from face_recognition) (19.24.4)\n",
            "Requirement already satisfied: numpy in /usr/local/lib/python3.10/dist-packages (from face_recognition) (1.25.2)\n",
            "Requirement already satisfied: Pillow in /usr/local/lib/python3.10/dist-packages (from face_recognition) (9.4.0)\n",
            "Building wheels for collected packages: face-recognition-models\n",
            "  Building wheel for face-recognition-models (setup.py) ... \u001b[?25l\u001b[?25hdone\n",
            "  Created wheel for face-recognition-models: filename=face_recognition_models-0.3.0-py2.py3-none-any.whl size=100566170 sha256=eb0709557c8ea34815be83a459805a3b74c29ae86f54e47a5d6c47ff6bd2c654\n",
            "  Stored in directory: /root/.cache/pip/wheels/7a/eb/cf/e9eced74122b679557f597bb7c8e4c739cfcac526db1fd523d\n",
            "Successfully built face-recognition-models\n",
            "Installing collected packages: face-recognition-models, face_recognition\n",
            "Successfully installed face-recognition-models-0.3.0 face_recognition-1.3.0\n",
            "Requirement already satisfied: imgaug in /usr/local/lib/python3.10/dist-packages (0.4.0)\n",
            "Requirement already satisfied: six in /usr/local/lib/python3.10/dist-packages (from imgaug) (1.16.0)\n",
            "Requirement already satisfied: numpy>=1.15 in /usr/local/lib/python3.10/dist-packages (from imgaug) (1.25.2)\n",
            "Requirement already satisfied: scipy in /usr/local/lib/python3.10/dist-packages (from imgaug) (1.11.4)\n",
            "Requirement already satisfied: Pillow in /usr/local/lib/python3.10/dist-packages (from imgaug) (9.4.0)\n",
            "Requirement already satisfied: matplotlib in /usr/local/lib/python3.10/dist-packages (from imgaug) (3.7.1)\n",
            "Requirement already satisfied: scikit-image>=0.14.2 in /usr/local/lib/python3.10/dist-packages (from imgaug) (0.19.3)\n",
            "Requirement already satisfied: opencv-python in /usr/local/lib/python3.10/dist-packages (from imgaug) (4.8.0.76)\n",
            "Requirement already satisfied: imageio in /usr/local/lib/python3.10/dist-packages (from imgaug) (2.31.6)\n",
            "Requirement already satisfied: Shapely in /usr/local/lib/python3.10/dist-packages (from imgaug) (2.0.4)\n",
            "Requirement already satisfied: networkx>=2.2 in /usr/local/lib/python3.10/dist-packages (from scikit-image>=0.14.2->imgaug) (3.3)\n",
            "Requirement already satisfied: tifffile>=2019.7.26 in /usr/local/lib/python3.10/dist-packages (from scikit-image>=0.14.2->imgaug) (2024.5.10)\n",
            "Requirement already satisfied: PyWavelets>=1.1.1 in /usr/local/lib/python3.10/dist-packages (from scikit-image>=0.14.2->imgaug) (1.6.0)\n",
            "Requirement already satisfied: packaging>=20.0 in /usr/local/lib/python3.10/dist-packages (from scikit-image>=0.14.2->imgaug) (24.0)\n",
            "Requirement already satisfied: contourpy>=1.0.1 in /usr/local/lib/python3.10/dist-packages (from matplotlib->imgaug) (1.2.1)\n",
            "Requirement already satisfied: cycler>=0.10 in /usr/local/lib/python3.10/dist-packages (from matplotlib->imgaug) (0.12.1)\n",
            "Requirement already satisfied: fonttools>=4.22.0 in /usr/local/lib/python3.10/dist-packages (from matplotlib->imgaug) (4.51.0)\n",
            "Requirement already satisfied: kiwisolver>=1.0.1 in /usr/local/lib/python3.10/dist-packages (from matplotlib->imgaug) (1.4.5)\n",
            "Requirement already satisfied: pyparsing>=2.3.1 in /usr/local/lib/python3.10/dist-packages (from matplotlib->imgaug) (3.1.2)\n",
            "Requirement already satisfied: python-dateutil>=2.7 in /usr/local/lib/python3.10/dist-packages (from matplotlib->imgaug) (2.8.2)\n",
            "Requirement already satisfied: dlib in /usr/local/lib/python3.10/dist-packages (19.24.4)\n"
          ]
        }
      ]
    },
    {
      "cell_type": "code",
      "source": [
        "import os\n",
        "import numpy as np\n",
        "import tensorflow as tf\n",
        "from vit_keras import vit\n",
        "from tensorflow.keras.preprocessing.image import ImageDataGenerator\n",
        "from tensorflow.keras.layers import Dropout, Dense, GlobalAveragePooling2D\n",
        "from tensorflow.keras.models import Model\n",
        "from tensorflow.keras.optimizers import Adam\n",
        "from sklearn.metrics import classification_report\n",
        "import tensorflow as tf\n",
        "from tensorflow.keras.preprocessing.image import ImageDataGenerator\n",
        "import imgaug.augmenters as iaa\n",
        "import face_recognition\n",
        "import imgaug as ia"
      ],
      "metadata": {
        "id": "uwpcjXGx7PZq"
      },
      "execution_count": null,
      "outputs": []
    },
    {
      "cell_type": "markdown",
      "source": [
        "### 데이터 증강"
      ],
      "metadata": {
        "id": "9OkqTjgNUjf1"
      }
    },
    {
      "cell_type": "code",
      "source": [
        "#faceposeaugument는 pytorch 기반이라 tensorflow와 호환되는 imgaug 라이브러리 사용\n",
        "def augment_face_pose(image, augmenter):\n",
        "    # RGB 이미지로 변환\n",
        "    image_rgb = image.astype('uint8')[:, :, ::-1]\n",
        "\n",
        "    # 특징점 추출\n",
        "    landmarks = face_recognition.face_landmarks(image_rgb)\n",
        "    if not landmarks:  # 얼굴이 검출되지 않으면 증강 X\n",
        "        return image\n",
        "\n",
        "    # 랜드마크 좌표 추출\n",
        "    keypoints = [ia.Keypoint(x=landmark[0], y=landmark[1]) for landmark in landmarks[0]['chin']]\n",
        "\n",
        "    # 랜드마크 기반 증강\n",
        "    augmented_image, _ = augmenter(image=image, keypoints=ia.KeypointsOnImage(keypoints, shape=image.shape))\n",
        "    return augmented_image"
      ],
      "metadata": {
        "id": "M47TCoot7RXC"
      },
      "execution_count": null,
      "outputs": []
    },
    {
      "cell_type": "code",
      "source": [
        "# 랜드마크 기반 Affine 변환 설정\n",
        "augmenter = iaa.Affine(\n",
        "    scale={\"x\": (0.8, 1.2), \"y\": (0.8, 1.2)},  # 얼굴 크기 조절 (80% ~ 120%)\n",
        "    translate_percent={\"x\": (-0.2, 0.2), \"y\": (-0.2, 0.2)},  # 얼굴 위치 이동 (-20% ~ 20%)\n",
        "    rotate=(-25, 25),  # 얼굴 회전 (-25도 ~ 25도)\n",
        "    shear=(-10, 10),  # 얼굴 왜곡 (-10도 ~ 10도)\n",
        ")"
      ],
      "metadata": {
        "id": "Fkv3WXLy7SdC"
      },
      "execution_count": null,
      "outputs": []
    },
    {
      "cell_type": "markdown",
      "source": [
        "### 데이터 로드"
      ],
      "metadata": {
        "id": "t-zI3YbPUg-5"
      }
    },
    {
      "cell_type": "code",
      "execution_count": null,
      "metadata": {
        "colab": {
          "base_uri": "https://localhost:8080/"
        },
        "id": "9CfkLuaWtN6b",
        "outputId": "43c8a005-58f9-4e1c-93f4-6bcb672dc0a3"
      },
      "outputs": [
        {
          "output_type": "stream",
          "name": "stdout",
          "text": [
            "Found 4324 images belonging to 4 classes.\n",
            "Found 765 images belonging to 4 classes.\n"
          ]
        }
      ],
      "source": [
        "# 데이터 디렉토리 설정 (본인 환경에 맞게 수정)\n",
        "train_data_dir = '/content/img_p/train'\n",
        "val_data_dir = '/content/img_p/val'\n",
        "\n",
        "# 이미지 크기 및 배치 크기 설정\n",
        "image_size = 224\n",
        "batch_size = 32\n",
        "\n",
        "# 데이터 증강 및 전처리 설정\n",
        "train_datagen = ImageDataGenerator(\n",
        "    rescale=1./255,\n",
        "    rotation_range=20,\n",
        "    width_shift_range=0.2,\n",
        "    height_shift_range=0.2,\n",
        "    horizontal_flip=True,\n",
        "    brightness_range=[0.8, 1.2],\n",
        "    zoom_range=0.2,\n",
        "    preprocessing_function=lambda img: augment_face_pose(img, augmenter),  # 증강 함수 imgaug적용\n",
        ")\n",
        "\n",
        "val_datagen = ImageDataGenerator(rescale=1./255)\n",
        "\n",
        "# 데이터 로드\n",
        "train_generator = train_datagen.flow_from_directory(\n",
        "    train_data_dir,\n",
        "    target_size=(image_size, image_size),\n",
        "    batch_size=batch_size,\n",
        "    class_mode='categorical'\n",
        ")\n",
        "\n",
        "val_generator = val_datagen.flow_from_directory(\n",
        "    val_data_dir,\n",
        "    target_size=(image_size, image_size),\n",
        "    batch_size=batch_size,\n",
        "    class_mode='categorical'\n",
        ")\n"
      ]
    },
    {
      "cell_type": "markdown",
      "source": [
        "### 모델 로드"
      ],
      "metadata": {
        "id": "218v3bSzUeF-"
      }
    },
    {
      "cell_type": "code",
      "source": [
        "base_model = vit.vit_b16(\n",
        "    image_size=image_size,\n",
        "    pretrained=True,\n",
        "    include_top=False,\n",
        "    pretrained_top=False\n",
        ")\n",
        "x = base_model.output\n",
        "x = tf.keras.layers.Flatten()(x)\n",
        "x = tf.keras.layers.Reshape((1, 1, -1))(x)\n",
        "x = GlobalAveragePooling2D()(x)\n",
        "x = Dropout(0.5)(x)\n",
        "predictions = Dense(4, activation='softmax')(x)  # 4개 클래스 anger/happy/sadness/panic\n",
        "model = Model(inputs=base_model.input, outputs=predictions)"
      ],
      "metadata": {
        "id": "t3xnvSK9yzo7"
      },
      "execution_count": null,
      "outputs": []
    },
    {
      "cell_type": "code",
      "source": [
        "from tensorflow.keras.callbacks import EarlyStopping\n",
        "\n",
        "early_stopping = EarlyStopping(\n",
        "    monitor='val_loss',\n",
        "    patience = 7,\n",
        "    restore_best_weights=True\n",
        "    )"
      ],
      "metadata": {
        "id": "I9JPAD-h0J6d"
      },
      "execution_count": null,
      "outputs": []
    },
    {
      "cell_type": "markdown",
      "source": [
        "### 모델 학습"
      ],
      "metadata": {
        "id": "vg9Nd-sTUTfI"
      }
    },
    {
      "cell_type": "code",
      "source": [
        "model.compile(optimizer=Adam(learning_rate=0.0001), loss='categorical_crossentropy', metrics=['accuracy'])\n",
        "\n",
        "epochs = 50\n",
        "history = model.fit(\n",
        "    train_generator,\n",
        "    epochs = epochs,\n",
        "    validation_data = val_generator,\n",
        "    callbacks = [early_stopping]\n",
        ")"
      ],
      "metadata": {
        "colab": {
          "base_uri": "https://localhost:8080/"
        },
        "id": "VoYQxmQIy59Q",
        "outputId": "8fc13e2a-47b5-4fac-e75f-8f43aab02e31"
      },
      "execution_count": null,
      "outputs": [
        {
          "output_type": "stream",
          "name": "stdout",
          "text": [
            "Epoch 1/50\n",
            "136/136 [==============================] - 246s 2s/step - loss: 0.0863 - accuracy: 0.9695 - val_loss: 0.4018 - val_accuracy: 0.9046\n",
            "Epoch 2/50\n",
            "136/136 [==============================] - 208s 2s/step - loss: 0.0843 - accuracy: 0.9713 - val_loss: 0.4680 - val_accuracy: 0.9033\n",
            "Epoch 3/50\n",
            "136/136 [==============================] - 209s 2s/step - loss: 0.0803 - accuracy: 0.9713 - val_loss: 0.3541 - val_accuracy: 0.9085\n",
            "Epoch 4/50\n",
            "136/136 [==============================] - 230s 2s/step - loss: 0.1571 - accuracy: 0.9422 - val_loss: 0.3850 - val_accuracy: 0.8967\n",
            "Epoch 5/50\n",
            "136/136 [==============================] - 209s 2s/step - loss: 0.0605 - accuracy: 0.9766 - val_loss: 0.3233 - val_accuracy: 0.9137\n",
            "Epoch 6/50\n",
            "136/136 [==============================] - 209s 2s/step - loss: 0.0587 - accuracy: 0.9801 - val_loss: 0.4571 - val_accuracy: 0.8915\n",
            "Epoch 7/50\n",
            "136/136 [==============================] - 220s 2s/step - loss: 0.0862 - accuracy: 0.9695 - val_loss: 0.3872 - val_accuracy: 0.9046\n",
            "Epoch 8/50\n",
            "136/136 [==============================] - 219s 2s/step - loss: 0.0961 - accuracy: 0.9683 - val_loss: 0.3547 - val_accuracy: 0.9098\n",
            "Epoch 9/50\n",
            "136/136 [==============================] - 230s 2s/step - loss: 0.1078 - accuracy: 0.9653 - val_loss: 0.3742 - val_accuracy: 0.8980\n",
            "Epoch 10/50\n",
            "136/136 [==============================] - 208s 2s/step - loss: 0.0590 - accuracy: 0.9785 - val_loss: 0.3404 - val_accuracy: 0.9085\n",
            "Epoch 11/50\n",
            "136/136 [==============================] - 208s 2s/step - loss: 0.0391 - accuracy: 0.9864 - val_loss: 0.3948 - val_accuracy: 0.9124\n",
            "Epoch 12/50\n",
            "136/136 [==============================] - 209s 2s/step - loss: 0.0490 - accuracy: 0.9829 - val_loss: 0.4067 - val_accuracy: 0.9072\n"
          ]
        }
      ]
    },
    {
      "cell_type": "code",
      "source": [
        "train_loss, train_accuracy = model.evaluate(train_generator)\n",
        "val_loss, val_accuracy = model.evaluate(val_generator)"
      ],
      "metadata": {
        "colab": {
          "base_uri": "https://localhost:8080/"
        },
        "id": "AuelH0iL0y9K",
        "outputId": "a612f460-1a8a-4310-985c-cf91631e8ef6"
      },
      "execution_count": null,
      "outputs": [
        {
          "output_type": "stream",
          "name": "stdout",
          "text": [
            "136/136 [==============================] - 217s 2s/step - loss: 0.0699 - accuracy: 0.9796\n",
            "24/24 [==============================] - 3s 112ms/step - loss: 0.3233 - accuracy: 0.9137\n"
          ]
        }
      ]
    },
    {
      "cell_type": "markdown",
      "source": [
        "### Loss, Accuray 시각화"
      ],
      "metadata": {
        "id": "aGMEi-6lUN_R"
      }
    },
    {
      "cell_type": "code",
      "source": [
        "import matplotlib.pyplot as plt\n",
        "\n",
        "train_loss = history.history['loss']\n",
        "val_loss = history.history['val_loss']\n",
        "\n",
        "epochs = range(1, len(train_loss) + 1)\n",
        "\n",
        "plt.plot(epochs, train_loss, 'b', label='Training loss')\n",
        "plt.plot(epochs, val_loss, 'r', label='Validation loss')\n",
        "plt.title('EmotionNet Training / validation loss')\n",
        "plt.xlabel('Epochs')\n",
        "plt.ylabel('Loss')\n",
        "plt.legend()\n",
        "plt.show()"
      ],
      "metadata": {
        "colab": {
          "base_uri": "https://localhost:8080/",
          "height": 472
        },
        "id": "ToPbYy8c4U9s",
        "outputId": "27b4a931-cfcc-4be1-c361-5286d07acdef"
      },
      "execution_count": null,
      "outputs": [
        {
          "output_type": "display_data",
          "data": {
            "text/plain": [
              "<Figure size 640x480 with 1 Axes>"
            ],
            "image/png": "[encoded data removed]"
          },
          "metadata": {}
        }
      ]
    },
    {
      "cell_type": "code",
      "source": [
        "import matplotlib.pyplot as plt\n",
        "\n",
        "train_accuracy = history.history['accuracy']\n",
        "val_accuracy = history.history['val_accuracy']\n",
        "\n",
        "epochs = range(1, len(train_accuracy) + 1)\n",
        "\n",
        "plt.plot(epochs, train_accuracy, 'b', label='Training accuracy')\n",
        "plt.plot(epochs, val_accuracy, 'r', label='Validation accuracy')\n",
        "plt.title('EmotionNet Training / validation accuracy')\n",
        "plt.xlabel('Epochs')\n",
        "plt.ylabel('accuracy')\n",
        "plt.legend()\n",
        "plt.show()"
      ],
      "metadata": {
        "colab": {
          "base_uri": "https://localhost:8080/",
          "height": 472
        },
        "id": "2jls5SYU4eZN",
        "outputId": "0d9c755e-c9a6-4181-ce6f-0abcc767af4a"
      },
      "execution_count": null,
      "outputs": [
        {
          "output_type": "display_data",
          "data": {
            "text/plain": [
              "<Figure size 640x480 with 1 Axes>"
            ],
            "image/png": "[encoded data removed]"
          },
          "metadata": {}
        }
      ]
    },
    {
      "cell_type": "markdown",
      "source": [
        "## Model Export"
      ],
      "metadata": {
        "id": "XIkBmkDgUIn1"
      }
    },
    {
      "cell_type": "code",
      "source": [
        "model.save('/content/drive/MyDrive/Project/ViT_b16')"
      ],
      "metadata": {
        "id": "27N5aNLrBQl-"
      },
      "execution_count": null,
      "outputs": []
    },
    {
      "cell_type": "markdown",
      "source": [
        "## Test Data에 대한 성능"
      ],
      "metadata": {
        "id": "Dcqht2k7T_sQ"
      }
    },
    {
      "cell_type": "code",
      "source": [
        "import zipfile\n",
        "import os\n",
        "\n",
        "def unzip_file(zip_file_path, extract_dir):\n",
        "    # 압축 파일 열기\n",
        "    with zipfile.ZipFile(zip_file_path, 'r') as zip_ref:\n",
        "        # 압축 해제\n",
        "        zip_ref.extractall(extract_dir)\n",
        "\n",
        "# 압축 파일 경로와 추출할 디렉토리 경로 지정\n",
        "zip_file_path = '/content/drive/MyDrive/Project/Data/Test_data/img_p/test_img_p.zip'\n",
        "extract_dir = '/content/test_img_p'\n",
        "\n",
        "# 압축 파일 풀기\n",
        "unzip_file(zip_file_path, extract_dir)"
      ],
      "metadata": {
        "id": "aXlVZ72nPB9p"
      },
      "execution_count": null,
      "outputs": []
    },
    {
      "cell_type": "code",
      "source": [
        "test_data_dir = '/content/test_img_p'\n",
        "test_datagen = ImageDataGenerator(rescale=1./255)\n",
        "\n",
        "test_generator = test_datagen.flow_from_directory(\n",
        "  test_data_dir,\n",
        "  target_size=(image_size, image_size),\n",
        "  batch_size=batch_size,\n",
        "  class_mode='categorical',\n",
        "  shuffle=False\n",
        ")"
      ],
      "metadata": {
        "colab": {
          "base_uri": "https://localhost:8080/"
        },
        "id": "TIrUKxfFOn5i",
        "outputId": "e8cc3f6e-61ad-4604-9879-ad2a3605cabe"
      },
      "execution_count": null,
      "outputs": [
        {
          "output_type": "stream",
          "name": "stdout",
          "text": [
            "Found 1116 images belonging to 4 classes.\n"
          ]
        }
      ]
    },
    {
      "cell_type": "code",
      "source": [
        "test_loss, test_accuracy = model.evaluate(val_generator)"
      ],
      "metadata": {
        "colab": {
          "base_uri": "https://localhost:8080/"
        },
        "id": "uaDZci5TRw0O",
        "outputId": "06bddc88-e95a-4ce0-f540-3e587479de02"
      },
      "execution_count": null,
      "outputs": [
        {
          "output_type": "stream",
          "name": "stdout",
          "text": [
            "24/24 [==============================] - 3s 111ms/step - loss: 0.3233 - accuracy: 0.9137\n"
          ]
        }
      ]
    },
    {
      "cell_type": "markdown",
      "source": [
        "#### 성능 Report"
      ],
      "metadata": {
        "id": "uXpZW00hT0eX"
      }
    },
    {
      "cell_type": "code",
      "source": [
        "test_predictions = model.predict(test_generator)\n",
        "test_predictions = np.argmax(test_predictions, axis=1)\n",
        "test_true_labels = test_generator.classes\n",
        "\n",
        "print(classification_report(test_true_labels, test_predictions, target_names=list(train_generator.class_indices.keys())))"
      ],
      "metadata": {
        "colab": {
          "base_uri": "https://localhost:8080/"
        },
        "id": "LNyE1EktRyWp",
        "outputId": "b1ea441d-72e2-4fb3-92b1-c74a17aa6bd8"
      },
      "execution_count": null,
      "outputs": [
        {
          "output_type": "stream",
          "name": "stdout",
          "text": [
            "35/35 [==============================] - 4s 110ms/step\n",
            "              precision    recall  f1-score   support\n",
            "\n",
            "       anger       0.76      0.74      0.75       276\n",
            "       happy       0.85      0.98      0.91       290\n",
            "       panic       0.89      0.75      0.82       270\n",
            "     sadness       0.79      0.81      0.80       280\n",
            "\n",
            "    accuracy                           0.82      1116\n",
            "   macro avg       0.82      0.82      0.82      1116\n",
            "weighted avg       0.82      0.82      0.82      1116\n",
            "\n"
          ]
        }
      ]
    },
    {
      "cell_type": "markdown",
      "source": [
        "#### 개별 이미지 감정 분류"
      ],
      "metadata": {
        "id": "Saoda7RNT6M4"
      }
    },
    {
      "cell_type": "code",
      "source": [
        "def predict_emotion(image_path):\n",
        "    img = tf.keras.preprocessing.image.load_img(image_path, target_size=(image_size, image_size))\n",
        "    img_array = tf.keras.preprocessing.image.img_to_array(img)\n",
        "    img_array = np.expand_dims(img_array, axis=0)\n",
        "    img_array = img_array / 255.0\n",
        "\n",
        "    prediction = model.predict(img_array)\n",
        "    predicted_class = np.argmax(prediction, axis=1)\n",
        "    class_labels = list(train_generator.class_indices.keys())\n",
        "    return class_labels[predicted_class[0]]\n",
        "\n",
        "example_image_path = '/content/test_img_p/anger/4h2c9e3ad14d2f5f2a48c99856e24e03882a82453748a3dd54d6b4c833d2aarpk.jpg'\n",
        "predicted_emotion = predict_emotion(example_image_path)\n",
        "print(f'The predicted emotion for the image is: {predicted_emotion}')"
      ],
      "metadata": {
        "colab": {
          "base_uri": "https://localhost:8080/"
        },
        "id": "FagetTl1Ojmw",
        "outputId": "17d6a0eb-26a2-4f0a-9064-a9327cd25004"
      },
      "execution_count": null,
      "outputs": [
        {
          "output_type": "stream",
          "name": "stdout",
          "text": [
            "1/1 [==============================] - 0s 48ms/step\n",
            "The predicted emotion for the image is: anger\n"
          ]
        }
      ]
    }
  ]
}