{
 "cells": [
  {
   "cell_type": "code",
   "id": "initial_id",
   "metadata": {
    "collapsed": true,
    "ExecuteTime": {
     "end_time": "2024-05-20T05:02:05.154305Z",
     "start_time": "2024-05-20T05:02:05.152678Z"
    }
   },
   "source": [
    "import pandas as pd\n",
    "import numpy as np\n",
    "import matplotlib.pyplot as plt\n",
    "import seaborn as sns"
   ],
   "outputs": [],
   "execution_count": 1
  },
  {
   "metadata": {
    "ExecuteTime": {
     "end_time": "2024-05-20T05:02:05.182136Z",
     "start_time": "2024-05-20T05:02:05.154894Z"
    }
   },
   "cell_type": "code",
   "source": [
    "train_anger = pd.read_json(\"./Data/TEST_DATA_SET/label/test_anger.json\", encoding=\"euc-kr\")\n",
    "train_happy = pd.read_json(\"./Data/TEST_DATA_SET/label/test_happy.json\", encoding=\"euc-kr\")\n",
    "train_panic = pd.read_json(\"./Data/TEST_DATA_SET/label/test_panic.json\", encoding=\"euc-kr\")\n",
    "train_sadness = pd.read_json(\"./Data/TEST_DATA_SET/label/test_sadness.json\", encoding=\"euc-kr\")\n",
    "\n",
    "train_emotions = pd.concat([train_anger, train_happy, train_panic, train_sadness])"
   ],
   "id": "d4a846b7937b9fb4",
   "outputs": [],
   "execution_count": 2
  },
  {
   "metadata": {
    "ExecuteTime": {
     "end_time": "2024-05-20T05:02:05.186014Z",
     "start_time": "2024-05-20T05:02:05.182514Z"
    }
   },
   "cell_type": "code",
   "source": "train_emotions.info()",
   "id": "737c06c70cc6ec85",
   "outputs": [
    {
     "name": "stdout",
     "output_type": "stream",
     "text": [
      "<class 'pandas.core.frame.DataFrame'>\n",
      "Index: 1137 entries, 0 to 283\n",
      "Data columns (total 9 columns):\n",
      " #   Column            Non-Null Count  Dtype \n",
      "---  ------            --------------  ----- \n",
      " 0   filename          1137 non-null   object\n",
      " 1   gender            1137 non-null   object\n",
      " 2   age               1137 non-null   int64 \n",
      " 3   isProf            1137 non-null   object\n",
      " 4   faceExp_uploader  1137 non-null   object\n",
      " 5   bg_uploader       1137 non-null   object\n",
      " 6   annot_A           1137 non-null   object\n",
      " 7   annot_B           1137 non-null   object\n",
      " 8   annot_C           1137 non-null   object\n",
      "dtypes: int64(1), object(8)\n",
      "memory usage: 88.8+ KB\n"
     ]
    }
   ],
   "execution_count": 3
  },
  {
   "metadata": {},
   "cell_type": "markdown",
   "source": [
    "### MetaData\n",
    "- filename: 파일명\n",
    "- gender: 성별\n",
    "    - \"남\": 남성\n",
    "    - \"여\": 여성\n",
    "- age: 나이\n",
    "- isProf: 전문가 여부\n",
    "    - \"전문인\" / \"일반인\"\n",
    "- faceExp_uploader: 사진 속 얼굴의 감정\n",
    "    - \"분노\", \"기쁨\", \"당황\", \"슬픔\", \"중립\"\n",
    "- bg_uploader: 사진 배경\n",
    "    - \"실외 자연환경\", \"문화재 및 유적지\", \"스포츠 관람 및 레저시설\", \"공공시설/종교/의료\", \"행사/사무공간\", \"숙박 및 거주공간\" ...\n",
    "- annot_A: 얼굴 어노테이션 사각형 A\n",
    "- annot_B: 얼굴 어노테이션 사각형 B\n",
    "- annot_C: 얼굴 어노테이션 사각형 C"
   ],
   "id": "c978f013f4a90f85"
  },
  {
   "metadata": {
    "ExecuteTime": {
     "end_time": "2024-05-20T05:02:05.198157Z",
     "start_time": "2024-05-20T05:02:05.186568Z"
    }
   },
   "cell_type": "code",
   "source": "train_emotions.shape6",
   "id": "5e6ea6a6ab420d0c",
   "outputs": [
    {
     "data": {
      "text/plain": [
       "(1137, 9)"
      ]
     },
     "execution_count": 4,
     "metadata": {},
     "output_type": "execute_result"
    }
   ],
   "execution_count": 4
  },
  {
   "metadata": {},
   "cell_type": "code",
   "outputs": [],
   "execution_count": null,
   "source": [
    "train_emotions['expression'] = np.where(train_emotions['faceExp_uploader'] == '분노', 0)\n",
    "train_emotions['expression'] = np.where(train_emotions['faceExp_uploader'] == '기쁨', 1)\n",
    "train_emotions['expression'] = np.where(train_emotions['faceExp_uploader'] == '당황', 2)\n",
    "train_emotions['expression'] = np.where(train_emotions['faceExp_uploader'] == '슬픔', 3)\n"
   ],
   "id": "75da9405b8839b9c"
  },
  {
   "metadata": {
    "ExecuteTime": {
     "end_time": "2024-05-20T05:02:05.210054Z",
     "start_time": "2024-05-20T05:02:05.198592Z"
    }
   },
   "cell_type": "code",
   "source": [
    "print(train_emotions.isna().sum())\n",
    "train_emotions = train_emotions.dropna(axis=0)"
   ],
   "id": "23891cc2a462b297",
   "outputs": [
    {
     "name": "stdout",
     "output_type": "stream",
     "text": [
      "filename            0\n",
      "gender              0\n",
      "age                 0\n",
      "isProf              0\n",
      "faceExp_uploader    0\n",
      "bg_uploader         0\n",
      "annot_A             0\n",
      "annot_B             0\n",
      "annot_C             0\n",
      "dtype: int64\n"
     ]
    }
   ],
   "execution_count": 5
  },
  {
   "metadata": {
    "ExecuteTime": {
     "end_time": "2024-05-20T05:03:00.817808Z",
     "start_time": "2024-05-20T05:03:00.815453Z"
    }
   },
   "cell_type": "code",
   "source": [
    "print(train_emotions[\"filename\"].duplicated())\n",
    "# train_emotions = train_emotions[\"filename\"].drop_duplicates().reset_index(drop=True)"
   ],
   "id": "ad82efbdad19bbc7",
   "outputs": [
    {
     "name": "stdout",
     "output_type": "stream",
     "text": [
      "0      False\n",
      "1      False\n",
      "2      False\n",
      "3      False\n",
      "4      False\n",
      "       ...  \n",
      "279    False\n",
      "280    False\n",
      "281    False\n",
      "282    False\n",
      "283    False\n",
      "Name: filename, Length: 1137, dtype: bool\n"
     ]
    }
   ],
   "execution_count": 9
  },
  {
   "metadata": {
    "ExecuteTime": {
     "end_time": "2024-05-20T05:03:02.155844Z",
     "start_time": "2024-05-20T05:03:02.153632Z"
    }
   },
   "cell_type": "code",
   "source": "emotions_test = train_emotions[[\"filename\", \"gender\", \"age\", \"isProf\", \"faceExp_uploader\", \"bg_uploader\"]]",
   "id": "564b274fd593b8ae",
   "outputs": [],
   "execution_count": 10
  },
  {
   "metadata": {
    "ExecuteTime": {
     "end_time": "2024-05-20T05:03:02.966896Z",
     "start_time": "2024-05-20T05:03:02.962234Z"
    }
   },
   "cell_type": "code",
   "source": "emotions_test.describe()",
   "id": "b55d0654d33352aa",
   "outputs": [
    {
     "data": {
      "text/plain": [
       "               age\n",
       "count  1137.000000\n",
       "mean     27.124011\n",
       "std       8.119677\n",
       "min      10.000000\n",
       "25%      20.000000\n",
       "50%      30.000000\n",
       "75%      30.000000\n",
       "max      60.000000"
      ],
      "text/html": [
       "<div>\n",
       "<style scoped>\n",
       "    .dataframe tbody tr th:only-of-type {\n",
       "        vertical-align: middle;\n",
       "    }\n",
       "\n",
       "    .dataframe tbody tr th {\n",
       "        vertical-align: top;\n",
       "    }\n",
       "\n",
       "    .dataframe thead th {\n",
       "        text-align: right;\n",
       "    }\n",
       "</style>\n",
       "<table border=\"1\" class=\"dataframe\">\n",
       "  <thead>\n",
       "    <tr style=\"text-align: right;\">\n",
       "      <th></th>\n",
       "      <th>age</th>\n",
       "    </tr>\n",
       "  </thead>\n",
       "  <tbody>\n",
       "    <tr>\n",
       "      <th>count</th>\n",
       "      <td>1137.000000</td>\n",
       "    </tr>\n",
       "    <tr>\n",
       "      <th>mean</th>\n",
       "      <td>27.124011</td>\n",
       "    </tr>\n",
       "    <tr>\n",
       "      <th>std</th>\n",
       "      <td>8.119677</td>\n",
       "    </tr>\n",
       "    <tr>\n",
       "      <th>min</th>\n",
       "      <td>10.000000</td>\n",
       "    </tr>\n",
       "    <tr>\n",
       "      <th>25%</th>\n",
       "      <td>20.000000</td>\n",
       "    </tr>\n",
       "    <tr>\n",
       "      <th>50%</th>\n",
       "      <td>30.000000</td>\n",
       "    </tr>\n",
       "    <tr>\n",
       "      <th>75%</th>\n",
       "      <td>30.000000</td>\n",
       "    </tr>\n",
       "    <tr>\n",
       "      <th>max</th>\n",
       "      <td>60.000000</td>\n",
       "    </tr>\n",
       "  </tbody>\n",
       "</table>\n",
       "</div>"
      ]
     },
     "execution_count": 11,
     "metadata": {},
     "output_type": "execute_result"
    }
   ],
   "execution_count": 11
  },
  {
   "metadata": {
    "ExecuteTime": {
     "end_time": "2024-05-20T06:08:59.728283Z",
     "start_time": "2024-05-20T06:08:59.718515Z"
    }
   },
   "cell_type": "code",
   "source": [
    "categorical_feature = [\"gender\", \"age\", \"isProf\", \"faceExp_uploader\", \"bg_uploader\"]\n",
    "\n",
    "for col in categorical_feature:\n",
    "    emotions_test[col].value_counts().plot(kind='bar')\n",
    "    plt.title(col)\n",
    "    plt.show()"
   ],
   "id": "7f80bc5224e1d59a",
   "outputs": [
    {
     "ename": "TypeError",
     "evalue": "list indices must be integers or slices, not str",
     "output_type": "error",
     "traceback": [
      "\u001B[0;31m---------------------------------------------------------------------------\u001B[0m",
      "\u001B[0;31mTypeError\u001B[0m                                 Traceback (most recent call last)",
      "Cell \u001B[0;32mIn[13], line 4\u001B[0m\n\u001B[1;32m      1\u001B[0m categorical_feature \u001B[38;5;241m=\u001B[39m [\u001B[38;5;124m\"\u001B[39m\u001B[38;5;124mgender\u001B[39m\u001B[38;5;124m\"\u001B[39m, \u001B[38;5;124m\"\u001B[39m\u001B[38;5;124mage\u001B[39m\u001B[38;5;124m\"\u001B[39m, \u001B[38;5;124m\"\u001B[39m\u001B[38;5;124misProf\u001B[39m\u001B[38;5;124m\"\u001B[39m, \u001B[38;5;124m\"\u001B[39m\u001B[38;5;124mfaceExp_uploader\u001B[39m\u001B[38;5;124m\"\u001B[39m, \u001B[38;5;124m\"\u001B[39m\u001B[38;5;124mbg_uploader\u001B[39m\u001B[38;5;124m\"\u001B[39m]\n\u001B[1;32m      3\u001B[0m \u001B[38;5;28;01mfor\u001B[39;00m col \u001B[38;5;129;01min\u001B[39;00m categorical_feature:\n\u001B[0;32m----> 4\u001B[0m     emotions_test[col]\u001B[38;5;241m.\u001B[39mvalue_counts()\u001B[38;5;241m.\u001B[39mplot(kind\u001B[38;5;241m=\u001B[39m\u001B[38;5;124m'\u001B[39m\u001B[38;5;124mbar\u001B[39m\u001B[38;5;124m'\u001B[39m)\n\u001B[1;32m      5\u001B[0m     plt\u001B[38;5;241m.\u001B[39mtitle(col)\n\u001B[1;32m      6\u001B[0m     plt\u001B[38;5;241m.\u001B[39mshow()\n",
      "\u001B[0;31mTypeError\u001B[0m: list indices must be integers or slices, not str"
     ]
    }
   ],
   "execution_count": 13
  },
  {
   "metadata": {},
   "cell_type": "code",
   "outputs": [],
   "execution_count": null,
   "source": "",
   "id": "4ca7be38d1d894c4"
  }
 ],
 "metadata": {
  "kernelspec": {
   "display_name": "Python 3",
   "language": "python",
   "name": "python3"
  },
  "language_info": {
   "codemirror_mode": {
    "name": "ipython",
    "version": 2
   },
   "file_extension": ".py",
   "mimetype": "text/x-python",
   "name": "python",
   "nbconvert_exporter": "python",
   "pygments_lexer": "ipython2",
   "version": "2.7.6"
  }
 },
 "nbformat": 4,
 "nbformat_minor": 5
}
