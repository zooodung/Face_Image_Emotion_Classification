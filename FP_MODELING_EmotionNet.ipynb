{
  "nbformat": 4,
  "nbformat_minor": 0,
  "metadata": {
    "colab": {
      "provenance": [],
      "machine_shape": "hm",
      "gpuType": "A100",
      "include_colab_link": true
    },
    "kernelspec": {
      "name": "python3",
      "display_name": "Python 3"
    },
    "language_info": {
      "name": "python"
    },
    "accelerator": "GPU"
  },
  "cells": [
    {
      "cell_type": "markdown",
      "metadata": {
        "id": "view-in-github",
        "colab_type": "text"
      },
      "source": [
        "<a href=\"https://colab.research.google.com/github/zooodung/Face_Image_Emotion_Classification/blob/JS/FP_MODELING_EmotionNet.ipynb\" target=\"_parent\"><img src=\"https://colab.research.google.com/assets/colab-badge.svg\" alt=\"Open In Colab\"/></a>"
      ]
    },
    {
      "cell_type": "code",
      "source": [
        "from google.colab import drive\n",
        "drive.mount('/content/drive/')"
      ],
      "metadata": {
        "colab": {
          "base_uri": "https://localhost:8080/"
        },
        "id": "Sqs8i1OFhR-B",
        "outputId": "4f33c6b1-ba81-4562-d0d5-69951f91197e"
      },
      "execution_count": null,
      "outputs": [
        {
          "output_type": "stream",
          "name": "stdout",
          "text": [
            "Drive already mounted at /content/drive/; to attempt to forcibly remount, call drive.mount(\"/content/drive/\", force_remount=True).\n"
          ]
        }
      ]
    },
    {
      "cell_type": "code",
      "execution_count": null,
      "metadata": {
        "id": "rv5Np8p_X63z"
      },
      "outputs": [],
      "source": [
        "import tensorflow as tf\n",
        "from tensorflow.keras import layers, models\n",
        "from tensorflow.keras.preprocessing.image import ImageDataGenerator\n",
        "from tensorflow.keras.optimizers import Adam\n",
        "from tensorflow.keras.losses import SparseCategoricalCrossentropy"
      ]
    },
    {
      "cell_type": "code",
      "source": [
        "#!pip install tensorflow-addons"
      ],
      "metadata": {
        "id": "B2PrPspgO3bi"
      },
      "execution_count": null,
      "outputs": []
    },
    {
      "cell_type": "markdown",
      "source": [
        "## Data Load"
      ],
      "metadata": {
        "id": "PmGFPMJZzUOi"
      }
    },
    {
      "cell_type": "code",
      "source": [
        "import zipfile\n",
        "import os\n",
        "\n",
        "def unzip_file(zip_file_path, extract_dir):\n",
        "    # 압축 파일 열기\n",
        "    with zipfile.ZipFile(zip_file_path, 'r') as zip_ref:\n",
        "        # 압축 해제\n",
        "        zip_ref.extractall(extract_dir)\n",
        "\n",
        "# 압축 파일 경로와 추출할 디렉토리 경로 지정\n",
        "zip_file_path = '/content/drive/MyDrive/Project/Data/img_preprocessed.zip'\n",
        "extract_dir = '/content/img_p'\n",
        "\n",
        "# 압축 파일 풀기\n",
        "unzip_file(zip_file_path, extract_dir)"
      ],
      "metadata": {
        "id": "0UWFdABXhcBX"
      },
      "execution_count": null,
      "outputs": []
    },
    {
      "cell_type": "markdown",
      "source": [
        "### Path"
      ],
      "metadata": {
        "id": "bJRozfT7zYqd"
      }
    },
    {
      "cell_type": "code",
      "source": [
        "#train_dir = '/content/drive/MyDrive/Project/Data/PREPROCESSED_IMG/train'\n",
        "#val_dir = '/content/drive/MyDrive/Project/Data/PREPROCESSED_IMG/val'\n",
        "\n",
        "#train_dir = '/content/drive/MyDrive/Project/Data/img/train'\n",
        "#val_dir = '/content/drive/MyDrive/Project/Data/img/val'\n",
        "\n",
        "train_dir = '/content/img_p/train'\n",
        "val_dir = '/content/img_p/val'"
      ],
      "metadata": {
        "id": "CfJ2CJhA9-_M"
      },
      "execution_count": null,
      "outputs": []
    },
    {
      "cell_type": "markdown",
      "source": [
        "### Train Data Augument"
      ],
      "metadata": {
        "id": "eVMkqn4ozm1B"
      }
    },
    {
      "cell_type": "markdown",
      "source": [
        "#### Imgaug"
      ],
      "metadata": {
        "id": "C2Y1XRky_ZZN"
      }
    },
    {
      "cell_type": "markdown",
      "source": [
        "\n",
        "\n",
        "> #faceposeaugument는 pytorch 기반이라 tensorflow와 호환되는 imgaug 라이브러리 사용\n",
        "\n"
      ],
      "metadata": {
        "id": "Po6yS7fkEdW4"
      }
    },
    {
      "cell_type": "code",
      "source": [
        "#! pip install face_recognition\n",
        "#! pip install imgaug\n",
        "#! pip install dlib"
      ],
      "metadata": {
        "id": "KP0L3vA__u71"
      },
      "execution_count": null,
      "outputs": []
    },
    {
      "cell_type": "code",
      "source": [
        "import tensorflow as tf\n",
        "from tensorflow.keras.preprocessing.image import ImageDataGenerator\n",
        "import imgaug.augmenters as iaa\n",
        "import face_recognition\n",
        "import imgaug as ia"
      ],
      "metadata": {
        "id": "3vr9Ticv_cNq",
        "colab": {
          "base_uri": "https://localhost:8080/",
          "height": 202
        },
        "outputId": "3788153a-a2b5-4e46-ff51-b60656de8d60"
      },
      "execution_count": null,
      "outputs": [
        {
          "output_type": "error",
          "ename": "ModuleNotFoundError",
          "evalue": "No module named 'face_recognition'",
          "traceback": [
            "\u001b[0;31m---------------------------------------------------------------------------\u001b[0m",
            "\u001b[0;31mModuleNotFoundError\u001b[0m                       Traceback (most recent call last)",
            "\u001b[0;32m<ipython-input-6-7cae626c10a4>\u001b[0m in \u001b[0;36m<cell line: 4>\u001b[0;34m()\u001b[0m\n\u001b[1;32m      2\u001b[0m \u001b[0;32mfrom\u001b[0m \u001b[0mtensorflow\u001b[0m\u001b[0;34m.\u001b[0m\u001b[0mkeras\u001b[0m\u001b[0;34m.\u001b[0m\u001b[0mpreprocessing\u001b[0m\u001b[0;34m.\u001b[0m\u001b[0mimage\u001b[0m \u001b[0;32mimport\u001b[0m \u001b[0mImageDataGenerator\u001b[0m\u001b[0;34m\u001b[0m\u001b[0;34m\u001b[0m\u001b[0m\n\u001b[1;32m      3\u001b[0m \u001b[0;32mimport\u001b[0m \u001b[0mimgaug\u001b[0m\u001b[0;34m.\u001b[0m\u001b[0maugmenters\u001b[0m \u001b[0;32mas\u001b[0m \u001b[0miaa\u001b[0m\u001b[0;34m\u001b[0m\u001b[0;34m\u001b[0m\u001b[0m\n\u001b[0;32m----> 4\u001b[0;31m \u001b[0;32mimport\u001b[0m \u001b[0mface_recognition\u001b[0m\u001b[0;34m\u001b[0m\u001b[0;34m\u001b[0m\u001b[0m\n\u001b[0m\u001b[1;32m      5\u001b[0m \u001b[0;32mimport\u001b[0m \u001b[0mimgaug\u001b[0m \u001b[0;32mas\u001b[0m \u001b[0mia\u001b[0m\u001b[0;34m\u001b[0m\u001b[0;34m\u001b[0m\u001b[0m\n",
            "\u001b[0;31mModuleNotFoundError\u001b[0m: No module named 'face_recognition'"
          ]
        }
      ]
    },
    {
      "cell_type": "code",
      "source": [
        "#faceposeaugument는 pytorch 기반이라 tensorflow와 호환되는 imgaug 라이브러리 사용\n",
        "def augment_face_pose(image, augmenter):\n",
        "    # RGB 이미지로 변환\n",
        "    image_rgb = image.astype('uint8')[:, :, ::-1]\n",
        "\n",
        "    # 특징점 추출\n",
        "    landmarks = face_recognition.face_landmarks(image_rgb)\n",
        "    if not landmarks:  # 얼굴이 검출되지 않으면 증강 X\n",
        "        return image\n",
        "\n",
        "    # 랜드마크 좌표 추출\n",
        "    keypoints = [ia.Keypoint(x=landmark[0], y=landmark[1]) for landmark in landmarks[0]['chin']]\n",
        "\n",
        "    # 랜드마크 기반 증강\n",
        "    augmented_image, _ = augmenter(image=image, keypoints=ia.KeypointsOnImage(keypoints, shape=image.shape))\n",
        "    return augmented_image"
      ],
      "metadata": {
        "id": "sXO8DtR2_6aj"
      },
      "execution_count": null,
      "outputs": []
    },
    {
      "cell_type": "code",
      "source": [
        "# 랜드마크 기반 Affine 변환 설정\n",
        "augmenter = iaa.Affine(\n",
        "    scale={\"x\": (0.8, 1.2), \"y\": (0.8, 1.2)},  # 얼굴 크기 조절 (80% ~ 120%)\n",
        "    translate_percent={\"x\": (-0.2, 0.2), \"y\": (-0.2, 0.2)},  # 얼굴 위치 이동 (-20% ~ 20%)\n",
        "    rotate=(-25, 25),  # 얼굴 회전 (-25도 ~ 25도)\n",
        "    shear=(-10, 10),  # 얼굴 왜곡 (-10도 ~ 10도)\n",
        ")"
      ],
      "metadata": {
        "id": "3XQGKGxd_zFx"
      },
      "execution_count": null,
      "outputs": []
    },
    {
      "cell_type": "markdown",
      "source": [
        "#### ImageDataGenerator"
      ],
      "metadata": {
        "id": "3aYiaA3J_WUy"
      }
    },
    {
      "cell_type": "code",
      "source": [
        "train_datagen = ImageDataGenerator(\n",
        "    rescale=1./255,\n",
        "    rotation_range=20,\n",
        "    width_shift_range=0.2,\n",
        "    height_shift_range=0.2,\n",
        "    horizontal_flip=True,\n",
        "    brightness_range=[0.8, 1.2],\n",
        "    zoom_range=0.2,\n",
        "    #preprocessing_function=lambda img: augment_face_pose(img, augmenter),  # 증강 함수 imgaug적용\n",
        ")\n",
        "\n",
        "val_datagen = ImageDataGenerator(rescale=1./255)"
      ],
      "metadata": {
        "id": "3xVioPWi-CcU"
      },
      "execution_count": null,
      "outputs": []
    },
    {
      "cell_type": "markdown",
      "source": [
        "### Data Generate"
      ],
      "metadata": {
        "id": "6Wd2X9MFzxM_"
      }
    },
    {
      "cell_type": "code",
      "source": [
        "train_generator = train_datagen.flow_from_directory(\n",
        "    train_dir,\n",
        "    target_size=(224, 224),\n",
        "    batch_size=32,\n",
        "    class_mode='sparse'\n",
        ")\n",
        "\n",
        "val_generator = val_datagen.flow_from_directory(\n",
        "    val_dir,\n",
        "    target_size=(224, 224),\n",
        "    batch_size=32,\n",
        "    class_mode='sparse'\n",
        ")"
      ],
      "metadata": {
        "id": "O4dZlmAS1bwr",
        "colab": {
          "base_uri": "https://localhost:8080/"
        },
        "outputId": "8beaadb0-13f1-4552-91d0-4505eeeeec70"
      },
      "execution_count": null,
      "outputs": [
        {
          "output_type": "stream",
          "name": "stdout",
          "text": [
            "Found 4324 images belonging to 4 classes.\n",
            "Found 765 images belonging to 4 classes.\n"
          ]
        }
      ]
    },
    {
      "cell_type": "markdown",
      "source": [
        "## Model Architecture"
      ],
      "metadata": {
        "id": "-ds9-rNRz986"
      }
    },
    {
      "cell_type": "markdown",
      "source": [
        "### EmotionNet"
      ],
      "metadata": {
        "id": "l0PLqUP30AOa"
      }
    },
    {
      "cell_type": "code",
      "source": [
        "def EmotionNet(input_shape=(224, 224, 3), num_classes=4):\n",
        "    model = models.Sequential([\n",
        "        layers.Conv2D(32, (3, 3), activation='relu', input_shape=input_shape),\n",
        "        layers.MaxPooling2D((2, 2)),\n",
        "        layers.Conv2D(64, (3, 3), activation='relu'),\n",
        "        layers.MaxPooling2D((2, 2)),\n",
        "        layers.Conv2D(128, (3, 3), activation='relu'),\n",
        "        layers.MaxPooling2D((2, 2)),\n",
        "        layers.Conv2D(128, (3, 3), activation='relu'),\n",
        "        layers.MaxPooling2D((2, 2)),\n",
        "        layers.Flatten(),\n",
        "        layers.Dropout(0.5),\n",
        "        layers.Dense(512, activation='relu'),\n",
        "        layers.Dense(num_classes, activation='softmax')\n",
        "    ])\n",
        "    return model"
      ],
      "metadata": {
        "id": "J3g9BT6AOsUr"
      },
      "execution_count": null,
      "outputs": []
    },
    {
      "cell_type": "markdown",
      "source": [
        "## 학습"
      ],
      "metadata": {
        "id": "QQm10wpqAMTc"
      }
    },
    {
      "cell_type": "markdown",
      "source": [
        "### Model Compile"
      ],
      "metadata": {
        "id": "JXspO-6P0Df-"
      }
    },
    {
      "cell_type": "code",
      "source": [
        "model = EmotionNet()\n",
        "\n",
        "model.compile(optimizer=Adam(learning_rate=1e-4),\n",
        "              loss=SparseCategoricalCrossentropy(),\n",
        "              metrics=['accuracy'])\n"
      ],
      "metadata": {
        "id": "Ym62qGld98Ly"
      },
      "execution_count": null,
      "outputs": []
    },
    {
      "cell_type": "markdown",
      "source": [
        "#### Anger 클래스 가중치 2배 적용"
      ],
      "metadata": {
        "id": "bfsEBKi9gwUZ"
      }
    },
    {
      "cell_type": "code",
      "source": [
        "class_weight = {0: 4.5, 1: 1.0, 2: 1.0, 3: 1.0}"
      ],
      "metadata": {
        "id": "TfmqH880gto4"
      },
      "execution_count": null,
      "outputs": []
    },
    {
      "cell_type": "code",
      "source": [
        "from tensorflow.keras.callbacks import EarlyStopping\n",
        "\n",
        "early_stopping = EarlyStopping(\n",
        "    monitor='val_loss',\n",
        "    patience = 10,\n",
        "    restore_best_weights=True\n",
        "    )"
      ],
      "metadata": {
        "id": "GZIx-QzDiedl"
      },
      "execution_count": null,
      "outputs": []
    },
    {
      "cell_type": "code",
      "source": [
        "num_epochs = 100\n",
        "history = model.fit(\n",
        "    train_generator,\n",
        "    epochs=num_epochs,\n",
        "    validation_data=val_generator,\n",
        "    class_weight=class_weight, # 가중치\n",
        "    callbacks=[early_stopping] # 과적합 방지 Early Stopping\n",
        ")"
      ],
      "metadata": {
        "colab": {
          "base_uri": "https://localhost:8080/"
        },
        "id": "xtUxKbxk5-N8",
        "outputId": "c6e18061-e0b4-49c3-8b61-621610155689"
      },
      "execution_count": null,
      "outputs": [
        {
          "output_type": "stream",
          "name": "stdout",
          "text": [
            "Epoch 1/100\n",
            "136/136 [==============================] - 57s 369ms/step - loss: 2.1344 - accuracy: 0.2491 - val_loss: 1.6693 - val_accuracy: 0.2536\n",
            "Epoch 2/100\n",
            "136/136 [==============================] - 55s 401ms/step - loss: 2.1006 - accuracy: 0.2484 - val_loss: 1.6799 - val_accuracy: 0.2536\n",
            "Epoch 3/100\n",
            "136/136 [==============================] - 55s 402ms/step - loss: 2.0870 - accuracy: 0.2484 - val_loss: 1.7732 - val_accuracy: 0.2536\n",
            "Epoch 4/100\n",
            "136/136 [==============================] - 55s 402ms/step - loss: 2.0904 - accuracy: 0.2484 - val_loss: 1.5877 - val_accuracy: 0.2536\n",
            "Epoch 5/100\n",
            "136/136 [==============================] - 55s 402ms/step - loss: 2.0853 - accuracy: 0.2484 - val_loss: 1.5664 - val_accuracy: 0.2536\n",
            "Epoch 6/100\n",
            "136/136 [==============================] - 55s 402ms/step - loss: 2.0806 - accuracy: 0.2484 - val_loss: 1.5356 - val_accuracy: 0.2536\n",
            "Epoch 7/100\n",
            "136/136 [==============================] - 55s 402ms/step - loss: 2.0812 - accuracy: 0.2484 - val_loss: 1.6394 - val_accuracy: 0.2536\n",
            "Epoch 8/100\n",
            "136/136 [==============================] - 55s 401ms/step - loss: 2.0661 - accuracy: 0.2484 - val_loss: 1.5786 - val_accuracy: 0.2549\n",
            "Epoch 9/100\n",
            "136/136 [==============================] - 55s 402ms/step - loss: 2.0346 - accuracy: 0.2556 - val_loss: 1.4719 - val_accuracy: 0.2732\n",
            "Epoch 10/100\n",
            "136/136 [==============================] - 55s 402ms/step - loss: 2.0070 - accuracy: 0.2773 - val_loss: 1.6201 - val_accuracy: 0.2614\n",
            "Epoch 11/100\n",
            "136/136 [==============================] - 55s 402ms/step - loss: 1.9754 - accuracy: 0.2960 - val_loss: 1.5432 - val_accuracy: 0.3098\n",
            "Epoch 12/100\n",
            "136/136 [==============================] - 55s 402ms/step - loss: 1.9373 - accuracy: 0.3145 - val_loss: 1.4889 - val_accuracy: 0.3595\n",
            "Epoch 13/100\n",
            "136/136 [==============================] - 55s 402ms/step - loss: 1.9004 - accuracy: 0.3275 - val_loss: 1.3912 - val_accuracy: 0.3556\n",
            "Epoch 14/100\n",
            "136/136 [==============================] - 55s 402ms/step - loss: 1.8660 - accuracy: 0.3404 - val_loss: 1.3013 - val_accuracy: 0.3778\n",
            "Epoch 15/100\n",
            "136/136 [==============================] - 54s 400ms/step - loss: 1.8412 - accuracy: 0.3483 - val_loss: 1.3204 - val_accuracy: 0.3647\n",
            "Epoch 16/100\n",
            "136/136 [==============================] - 55s 404ms/step - loss: 1.8224 - accuracy: 0.3511 - val_loss: 1.3007 - val_accuracy: 0.3673\n",
            "Epoch 17/100\n",
            "136/136 [==============================] - 55s 402ms/step - loss: 1.8004 - accuracy: 0.3642 - val_loss: 1.2459 - val_accuracy: 0.3869\n",
            "Epoch 18/100\n",
            "136/136 [==============================] - 55s 403ms/step - loss: 1.7541 - accuracy: 0.3661 - val_loss: 1.2399 - val_accuracy: 0.3974\n",
            "Epoch 19/100\n",
            "136/136 [==============================] - 55s 402ms/step - loss: 1.7353 - accuracy: 0.3749 - val_loss: 1.3972 - val_accuracy: 0.3765\n",
            "Epoch 20/100\n",
            "136/136 [==============================] - 55s 402ms/step - loss: 1.7223 - accuracy: 0.3821 - val_loss: 1.1331 - val_accuracy: 0.4471\n",
            "Epoch 21/100\n",
            "136/136 [==============================] - 55s 403ms/step - loss: 1.6725 - accuracy: 0.3980 - val_loss: 1.3458 - val_accuracy: 0.3725\n",
            "Epoch 22/100\n",
            "136/136 [==============================] - 55s 402ms/step - loss: 1.6557 - accuracy: 0.4026 - val_loss: 1.3157 - val_accuracy: 0.4157\n",
            "Epoch 23/100\n",
            "136/136 [==============================] - 55s 403ms/step - loss: 1.6136 - accuracy: 0.4198 - val_loss: 1.0362 - val_accuracy: 0.5242\n",
            "Epoch 24/100\n",
            "136/136 [==============================] - 55s 402ms/step - loss: 1.5807 - accuracy: 0.4329 - val_loss: 1.0926 - val_accuracy: 0.4758\n",
            "Epoch 25/100\n",
            "136/136 [==============================] - 55s 402ms/step - loss: 1.5415 - accuracy: 0.4563 - val_loss: 1.1603 - val_accuracy: 0.4758\n",
            "Epoch 26/100\n",
            "136/136 [==============================] - 55s 401ms/step - loss: 1.5277 - accuracy: 0.4605 - val_loss: 1.0114 - val_accuracy: 0.5242\n",
            "Epoch 27/100\n",
            "136/136 [==============================] - 55s 402ms/step - loss: 1.4558 - accuracy: 0.5012 - val_loss: 0.9806 - val_accuracy: 0.5621\n",
            "Epoch 28/100\n",
            "136/136 [==============================] - 55s 401ms/step - loss: 1.4548 - accuracy: 0.5093 - val_loss: 0.9249 - val_accuracy: 0.5621\n",
            "Epoch 29/100\n",
            "136/136 [==============================] - 55s 401ms/step - loss: 1.3966 - accuracy: 0.5199 - val_loss: 1.0549 - val_accuracy: 0.5242\n",
            "Epoch 30/100\n",
            "136/136 [==============================] - 55s 403ms/step - loss: 1.3668 - accuracy: 0.5393 - val_loss: 0.9595 - val_accuracy: 0.5673\n",
            "Epoch 31/100\n",
            "136/136 [==============================] - 55s 403ms/step - loss: 1.3659 - accuracy: 0.5389 - val_loss: 0.6839 - val_accuracy: 0.7203\n",
            "Epoch 32/100\n",
            "136/136 [==============================] - 55s 401ms/step - loss: 1.3089 - accuracy: 0.5715 - val_loss: 0.7896 - val_accuracy: 0.6444\n",
            "Epoch 33/100\n",
            "136/136 [==============================] - 55s 401ms/step - loss: 1.2819 - accuracy: 0.5754 - val_loss: 0.6795 - val_accuracy: 0.7111\n",
            "Epoch 34/100\n",
            "136/136 [==============================] - 55s 402ms/step - loss: 1.2556 - accuracy: 0.5964 - val_loss: 0.6358 - val_accuracy: 0.7386\n",
            "Epoch 35/100\n",
            "136/136 [==============================] - 55s 402ms/step - loss: 1.2089 - accuracy: 0.6117 - val_loss: 0.8225 - val_accuracy: 0.6575\n",
            "Epoch 36/100\n",
            "136/136 [==============================] - 55s 403ms/step - loss: 1.2199 - accuracy: 0.6105 - val_loss: 0.8230 - val_accuracy: 0.6431\n",
            "Epoch 37/100\n",
            "136/136 [==============================] - 55s 401ms/step - loss: 1.1524 - accuracy: 0.6355 - val_loss: 0.6240 - val_accuracy: 0.7556\n",
            "Epoch 38/100\n",
            "136/136 [==============================] - 55s 402ms/step - loss: 1.1270 - accuracy: 0.6466 - val_loss: 0.8109 - val_accuracy: 0.6523\n",
            "Epoch 39/100\n",
            "136/136 [==============================] - 55s 401ms/step - loss: 1.1075 - accuracy: 0.6536 - val_loss: 0.5993 - val_accuracy: 0.7582\n",
            "Epoch 40/100\n",
            "136/136 [==============================] - 55s 402ms/step - loss: 1.0926 - accuracy: 0.6623 - val_loss: 0.7297 - val_accuracy: 0.6824\n",
            "Epoch 41/100\n",
            "136/136 [==============================] - 55s 401ms/step - loss: 1.0681 - accuracy: 0.6702 - val_loss: 0.5526 - val_accuracy: 0.7948\n",
            "Epoch 42/100\n",
            "136/136 [==============================] - 55s 403ms/step - loss: 1.0490 - accuracy: 0.6753 - val_loss: 0.6443 - val_accuracy: 0.7373\n",
            "Epoch 43/100\n",
            "136/136 [==============================] - 55s 402ms/step - loss: 1.0589 - accuracy: 0.6741 - val_loss: 0.5172 - val_accuracy: 0.8065\n",
            "Epoch 44/100\n",
            "136/136 [==============================] - 55s 402ms/step - loss: 1.0443 - accuracy: 0.6755 - val_loss: 0.5164 - val_accuracy: 0.8078\n",
            "Epoch 45/100\n",
            "136/136 [==============================] - 55s 402ms/step - loss: 1.0082 - accuracy: 0.6917 - val_loss: 0.5117 - val_accuracy: 0.8026\n",
            "Epoch 46/100\n",
            "136/136 [==============================] - 55s 402ms/step - loss: 0.9894 - accuracy: 0.7065 - val_loss: 0.5791 - val_accuracy: 0.7739\n",
            "Epoch 47/100\n",
            "136/136 [==============================] - 55s 402ms/step - loss: 0.9661 - accuracy: 0.7000 - val_loss: 0.4890 - val_accuracy: 0.8118\n",
            "Epoch 48/100\n",
            "136/136 [==============================] - 55s 403ms/step - loss: 0.9519 - accuracy: 0.7137 - val_loss: 0.5192 - val_accuracy: 0.8013\n",
            "Epoch 49/100\n",
            "136/136 [==============================] - 55s 401ms/step - loss: 0.9608 - accuracy: 0.7142 - val_loss: 0.6197 - val_accuracy: 0.7425\n",
            "Epoch 50/100\n",
            "136/136 [==============================] - 55s 401ms/step - loss: 0.9550 - accuracy: 0.7056 - val_loss: 0.5062 - val_accuracy: 0.8026\n",
            "Epoch 51/100\n",
            "136/136 [==============================] - 55s 402ms/step - loss: 0.9345 - accuracy: 0.7211 - val_loss: 0.4572 - val_accuracy: 0.8209\n",
            "Epoch 52/100\n",
            "136/136 [==============================] - 55s 404ms/step - loss: 0.9136 - accuracy: 0.7285 - val_loss: 0.5335 - val_accuracy: 0.8000\n",
            "Epoch 53/100\n",
            "136/136 [==============================] - 55s 402ms/step - loss: 0.8765 - accuracy: 0.7410 - val_loss: 0.6184 - val_accuracy: 0.7542\n",
            "Epoch 54/100\n",
            "136/136 [==============================] - 55s 402ms/step - loss: 0.8592 - accuracy: 0.7465 - val_loss: 0.5109 - val_accuracy: 0.8092\n",
            "Epoch 55/100\n",
            "136/136 [==============================] - 55s 401ms/step - loss: 0.8830 - accuracy: 0.7345 - val_loss: 0.4582 - val_accuracy: 0.8301\n",
            "Epoch 56/100\n",
            "136/136 [==============================] - 55s 403ms/step - loss: 0.8676 - accuracy: 0.7502 - val_loss: 0.4556 - val_accuracy: 0.8235\n",
            "Epoch 57/100\n",
            "136/136 [==============================] - 55s 402ms/step - loss: 0.8459 - accuracy: 0.7516 - val_loss: 0.6269 - val_accuracy: 0.7516\n",
            "Epoch 58/100\n",
            "136/136 [==============================] - 55s 402ms/step - loss: 0.8302 - accuracy: 0.7535 - val_loss: 0.4920 - val_accuracy: 0.8118\n",
            "Epoch 59/100\n",
            "136/136 [==============================] - 54s 400ms/step - loss: 0.8231 - accuracy: 0.7560 - val_loss: 0.4387 - val_accuracy: 0.8314\n",
            "Epoch 60/100\n",
            "136/136 [==============================] - 54s 400ms/step - loss: 0.7943 - accuracy: 0.7653 - val_loss: 0.4528 - val_accuracy: 0.8340\n",
            "Epoch 61/100\n",
            "136/136 [==============================] - 55s 402ms/step - loss: 0.7908 - accuracy: 0.7694 - val_loss: 0.4581 - val_accuracy: 0.8222\n",
            "Epoch 62/100\n",
            "136/136 [==============================] - 55s 401ms/step - loss: 0.8092 - accuracy: 0.7636 - val_loss: 0.5040 - val_accuracy: 0.8105\n",
            "Epoch 63/100\n",
            "136/136 [==============================] - 55s 407ms/step - loss: 0.8088 - accuracy: 0.7625 - val_loss: 0.4668 - val_accuracy: 0.8248\n",
            "Epoch 64/100\n",
            "136/136 [==============================] - 55s 405ms/step - loss: 0.7779 - accuracy: 0.7766 - val_loss: 0.4254 - val_accuracy: 0.8405\n",
            "Epoch 65/100\n",
            "136/136 [==============================] - 55s 403ms/step - loss: 0.7657 - accuracy: 0.7787 - val_loss: 0.5098 - val_accuracy: 0.8052\n",
            "Epoch 66/100\n",
            "136/136 [==============================] - 55s 405ms/step - loss: 0.7500 - accuracy: 0.7819 - val_loss: 0.4587 - val_accuracy: 0.8418\n",
            "Epoch 67/100\n",
            "136/136 [==============================] - 55s 404ms/step - loss: 0.7811 - accuracy: 0.7798 - val_loss: 0.4663 - val_accuracy: 0.8170\n",
            "Epoch 68/100\n",
            "136/136 [==============================] - 55s 407ms/step - loss: 0.7582 - accuracy: 0.7778 - val_loss: 0.4578 - val_accuracy: 0.8222\n",
            "Epoch 69/100\n",
            "136/136 [==============================] - 55s 403ms/step - loss: 0.7388 - accuracy: 0.7916 - val_loss: 0.6522 - val_accuracy: 0.7699\n",
            "Epoch 70/100\n",
            "136/136 [==============================] - 55s 403ms/step - loss: 0.7438 - accuracy: 0.7872 - val_loss: 0.4143 - val_accuracy: 0.8405\n",
            "Epoch 71/100\n",
            "136/136 [==============================] - 55s 403ms/step - loss: 0.7141 - accuracy: 0.7974 - val_loss: 0.4685 - val_accuracy: 0.8314\n",
            "Epoch 72/100\n",
            "136/136 [==============================] - 55s 401ms/step - loss: 0.7335 - accuracy: 0.7849 - val_loss: 0.4604 - val_accuracy: 0.8327\n",
            "Epoch 73/100\n",
            "136/136 [==============================] - 55s 402ms/step - loss: 0.7376 - accuracy: 0.7884 - val_loss: 0.3897 - val_accuracy: 0.8627\n",
            "Epoch 74/100\n",
            "136/136 [==============================] - 55s 402ms/step - loss: 0.7111 - accuracy: 0.8062 - val_loss: 0.4240 - val_accuracy: 0.8497\n",
            "Epoch 75/100\n",
            "136/136 [==============================] - 55s 401ms/step - loss: 0.6977 - accuracy: 0.8018 - val_loss: 0.3978 - val_accuracy: 0.8536\n",
            "Epoch 76/100\n",
            "136/136 [==============================] - 55s 401ms/step - loss: 0.6933 - accuracy: 0.8071 - val_loss: 0.4743 - val_accuracy: 0.8301\n",
            "Epoch 77/100\n",
            "136/136 [==============================] - 55s 403ms/step - loss: 0.7173 - accuracy: 0.7914 - val_loss: 0.4585 - val_accuracy: 0.8275\n",
            "Epoch 78/100\n",
            "136/136 [==============================] - 55s 401ms/step - loss: 0.6849 - accuracy: 0.8057 - val_loss: 0.4437 - val_accuracy: 0.8288\n",
            "Epoch 79/100\n",
            "136/136 [==============================] - 55s 402ms/step - loss: 0.6890 - accuracy: 0.8064 - val_loss: 0.5136 - val_accuracy: 0.8183\n",
            "Epoch 80/100\n",
            "136/136 [==============================] - 55s 403ms/step - loss: 0.6772 - accuracy: 0.8041 - val_loss: 0.3919 - val_accuracy: 0.8549\n",
            "Epoch 81/100\n",
            "136/136 [==============================] - 55s 402ms/step - loss: 0.6640 - accuracy: 0.8185 - val_loss: 0.5553 - val_accuracy: 0.7739\n",
            "Epoch 82/100\n",
            "136/136 [==============================] - 55s 404ms/step - loss: 0.6816 - accuracy: 0.8071 - val_loss: 0.5184 - val_accuracy: 0.8092\n",
            "Epoch 83/100\n",
            "136/136 [==============================] - 55s 401ms/step - loss: 0.6751 - accuracy: 0.8094 - val_loss: 0.3695 - val_accuracy: 0.8667\n",
            "Epoch 84/100\n",
            "136/136 [==============================] - 55s 401ms/step - loss: 0.6636 - accuracy: 0.8180 - val_loss: 0.3324 - val_accuracy: 0.8758\n",
            "Epoch 85/100\n",
            "136/136 [==============================] - 55s 402ms/step - loss: 0.6601 - accuracy: 0.8094 - val_loss: 0.3791 - val_accuracy: 0.8601\n",
            "Epoch 86/100\n",
            "136/136 [==============================] - 55s 402ms/step - loss: 0.6752 - accuracy: 0.8131 - val_loss: 0.4738 - val_accuracy: 0.8196\n",
            "Epoch 87/100\n",
            "136/136 [==============================] - 55s 401ms/step - loss: 0.6392 - accuracy: 0.8161 - val_loss: 0.3852 - val_accuracy: 0.8601\n",
            "Epoch 88/100\n",
            "136/136 [==============================] - 55s 401ms/step - loss: 0.6649 - accuracy: 0.8150 - val_loss: 0.4158 - val_accuracy: 0.8588\n",
            "Epoch 89/100\n",
            "136/136 [==============================] - 55s 402ms/step - loss: 0.6505 - accuracy: 0.8263 - val_loss: 0.4037 - val_accuracy: 0.8562\n",
            "Epoch 90/100\n",
            "136/136 [==============================] - 55s 401ms/step - loss: 0.6441 - accuracy: 0.8212 - val_loss: 0.4466 - val_accuracy: 0.8392\n",
            "Epoch 91/100\n",
            "136/136 [==============================] - 55s 402ms/step - loss: 0.6143 - accuracy: 0.8265 - val_loss: 0.4079 - val_accuracy: 0.8510\n",
            "Epoch 92/100\n",
            "136/136 [==============================] - 55s 402ms/step - loss: 0.6265 - accuracy: 0.8185 - val_loss: 0.3682 - val_accuracy: 0.8654\n",
            "Epoch 93/100\n",
            "136/136 [==============================] - 55s 401ms/step - loss: 0.6178 - accuracy: 0.8245 - val_loss: 0.3572 - val_accuracy: 0.8680\n",
            "Epoch 94/100\n",
            "136/136 [==============================] - 55s 401ms/step - loss: 0.6088 - accuracy: 0.8309 - val_loss: 0.3792 - val_accuracy: 0.8575\n"
          ]
        }
      ]
    },
    {
      "cell_type": "markdown",
      "source": [
        "## 성능 평가"
      ],
      "metadata": {
        "id": "7SAKVq2F-j60"
      }
    },
    {
      "cell_type": "code",
      "source": [
        "train_loss, train_accuracy = model.evaluate(train_generator)\n",
        "val_loss, val_accuracy = model.evaluate(val_generator)\n",
        "print(f'Train Loss: {train_loss:.4f}, Train Accuracy: {train_accuracy:.4f}')\n",
        "print(f'Val Loss: {val_loss:.4f}, Val Accuracy: {val_accuracy:.4f}')"
      ],
      "metadata": {
        "colab": {
          "base_uri": "https://localhost:8080/"
        },
        "id": "rxrNoVqxAKSi",
        "outputId": "dc43cd6b-5175-4447-ca59-bd824547ba76"
      },
      "execution_count": null,
      "outputs": [
        {
          "output_type": "stream",
          "name": "stdout",
          "text": [
            "136/136 [==============================] - 53s 392ms/step - loss: 0.3497 - accuracy: 0.8770\n",
            "24/24 [==============================] - 1s 39ms/step - loss: 0.3324 - accuracy: 0.8758\n",
            "Train Loss: 0.3497, Train Accuracy: 0.8770\n",
            "Val Loss: 0.3324, Val Accuracy: 0.8758\n"
          ]
        }
      ]
    },
    {
      "cell_type": "markdown",
      "source": [
        "### 시각화"
      ],
      "metadata": {
        "id": "W-D42LBG-mgV"
      }
    },
    {
      "cell_type": "code",
      "source": [
        "import matplotlib.pyplot as plt\n",
        "\n",
        "train_loss = history.history['loss']\n",
        "val_loss = history.history['val_loss']\n",
        "\n",
        "epochs = range(1, len(train_loss) + 1)\n",
        "\n",
        "plt.plot(epochs, train_loss, 'b', label='Training loss')\n",
        "plt.plot(epochs, val_loss, 'r', label='Validation loss')\n",
        "plt.title('EmotionNet Training / validation loss')\n",
        "plt.xlabel('Epochs')\n",
        "plt.ylabel('Loss')\n",
        "plt.legend()\n",
        "plt.show()"
      ],
      "metadata": {
        "colab": {
          "base_uri": "https://localhost:8080/",
          "height": 472
        },
        "id": "XGhD-SGLXW7K",
        "outputId": "4a4299a0-b15a-4b29-bb8d-2b99723d29a4"
      },
      "execution_count": null,
      "outputs": [
        {
          "output_type": "display_data",
          "data": {
            "text/plain": [
              "<Figure size 640x480 with 1 Axes>"
            ],
            "image/png": "[encoded data removed]"
          },
          "metadata": {}
        }
      ]
    },
    {
      "cell_type": "code",
      "source": [
        "import matplotlib.pyplot as plt\n",
        "\n",
        "train_accuracy = history.history['accuracy']\n",
        "val_accuracy = history.history['val_accuracy']\n",
        "\n",
        "epochs = range(1, len(train_accuracy) + 1)\n",
        "\n",
        "plt.plot(epochs, train_accuracy, 'b', label='Training accuracy')\n",
        "plt.plot(epochs, val_accuracy, 'r', label='Validation accuracy')\n",
        "plt.title('EmotionNet Training / validation accuracy')\n",
        "plt.xlabel('Epochs')\n",
        "plt.ylabel('accuracy')\n",
        "plt.legend()\n",
        "plt.show()"
      ],
      "metadata": {
        "colab": {
          "base_uri": "https://localhost:8080/",
          "height": 472
        },
        "id": "w_Ri2phQXkbb",
        "outputId": "98000681-8e75-484a-da1f-7772dcba78b6"
      },
      "execution_count": null,
      "outputs": [
        {
          "output_type": "display_data",
          "data": {
            "text/plain": [
              "<Figure size 640x480 with 1 Axes>"
            ],
            "image/png": "[encoded data removed]"
          },
          "metadata": {}
        }
      ]
    },
    {
      "cell_type": "markdown",
      "source": [
        "## Model Export"
      ],
      "metadata": {
        "id": "TpS-U8Z_AX8v"
      }
    },
    {
      "cell_type": "code",
      "source": [
        "model.save('/content/drive/MyDrive/Project/EmotionNet_weights45')"
      ],
      "metadata": {
        "id": "d7GMDuO2-uy9"
      },
      "execution_count": null,
      "outputs": []
    },
    {
      "cell_type": "code",
      "source": [
        "EmotionNet_60ephochs = tf.keras.models.load_model('/content/drive/MyDrive/Project/EmotionNet_60ephochs')"
      ],
      "metadata": {
        "id": "jrIARao4_My8"
      },
      "execution_count": null,
      "outputs": []
    }
  ]
}