{
 "cells": [
  {
   "cell_type": "code",
   "execution_count": 25,
   "metadata": {},
   "outputs": [],
   "source": [
    "#필요한 라이브러리 호출\n",
    "import tensorflow as tf\n",
    "import os\n",
    "import numpy as np\n",
    "from tensorflow.keras.preprocessing.image import ImageDataGenerator"
   ]
  },
  {
   "cell_type": "code",
   "execution_count": 26,
   "metadata": {},
   "outputs": [
    {
     "name": "stdout",
     "output_type": "stream",
     "text": [
      "WARNING:tensorflow:No training configuration found in the save file, so the model was *not* compiled. Compile it manually.\n"
     ]
    }
   ],
   "source": [
    "#모델 불러옴\n",
    "model_path = 'model/mobilenet_7.h5'\n",
    "model = load_model(model_path)"
   ]
  },
  {
   "cell_type": "code",
   "execution_count": 27,
   "metadata": {},
   "outputs": [],
   "source": [
    "def map_prediction_to_emotion(predictions):\n",
    "    emotion_map = {\n",
    "        0: 'anger',     \n",
    "        1: 'disgust',  \n",
    "        2: 'fear',      \n",
    "        3: 'happy',     \n",
    "        4: 'sadness',   \n",
    "        5: 'surprise',  \n",
    "        6: 'neutral'    #affectnet 7class 분류\n",
    "    }\n",
    "    mapped_predictions = []\n",
    "    for pred in predictions:\n",
    "        mapped_emotion = emotion_map[pred]\n",
    "        if mapped_emotion in ['disgust', 'fear', 'surprise']:\n",
    "            mapped_emotion = 'panic'\n",
    "        if mapped_emotion == 'neutral':\n",
    "            mapped_emotion = None\n",
    "        mapped_predictions.append(mapped_emotion)\n",
    "    return np.array(mapped_predictions)"
   ]
  },
  {
   "cell_type": "code",
   "execution_count": 28,
   "metadata": {},
   "outputs": [
    {
     "name": "stdout",
     "output_type": "stream",
     "text": [
      "Found 5995 images belonging to 4 classes.\n"
     ]
    }
   ],
   "source": [
    "#이미지 증강 \n",
    "datagen = ImageDataGenerator(rescale=1./255)\n",
    "data_generator = datagen.flow_from_directory(\n",
    "    'img/img/train',\n",
    "    target_size=(224, 224), \n",
    "    batch_size=32,\n",
    "    class_mode='categorical',\n",
    "    shuffle=False\n",
    ")"
   ]
  },
  {
   "cell_type": "code",
   "execution_count": 32,
   "metadata": {},
   "outputs": [
    {
     "name": "stdout",
     "output_type": "stream",
     "text": [
      "188/188 [==============================] - 186s 987ms/step\n"
     ]
    }
   ],
   "source": [
    "#예측 수행\n",
    "predictions = model.predict(data_generator)\n",
    "predicted_labels = np.argmax(predictions, axis=1)\n",
    "mapped_predictions = map_prediction_to_emotion(predicted_labels)\n",
    "\n",
    "# 실제 라벨 가져오기\n",
    "true_labels = data_generator.classes\n",
    "true_labels_str = np.array([os.path.basename(os.path.dirname(filepath)) for filepath in data_generator.filepaths])"
   ]
  },
  {
   "cell_type": "code",
   "execution_count": 33,
   "metadata": {},
   "outputs": [],
   "source": [
    "# 예측된 라벨과 실제 라벨 비교\n",
    "incorrect_indices = np.where(mapped_predictions != true_labels_str)[0]\n",
    "\n",
    "# 잘못 라벨링된 파일을 저장할 딕셔너리\n",
    "mislabeled_files = {\n",
    "    'happy': [],\n",
    "    'anger': [],\n",
    "    'sadness': [],\n",
    "    'panic': []\n",
    "}"
   ]
  },
  {
   "cell_type": "code",
   "execution_count": 34,
   "metadata": {},
   "outputs": [],
   "source": [
    "#딕셔너리 채우기\n",
    "for i in incorrect_indices:\n",
    "    filename = data_generator.filenames[i]\n",
    "    predicted_emotion = mapped_predictions[i]\n",
    "    if predicted_emotion:\n",
    "        mislabeled_files[predicted_emotion].append(filename)"
   ]
  },
  {
   "cell_type": "code",
   "execution_count": 35,
   "metadata": {},
   "outputs": [],
   "source": [
    "output_dir = 'mislabeled_files'\n",
    "if not os.path.exists(output_dir):\n",
    "    os.makedirs(output_dir)\n",
    "\n",
    "# 파일명 저장\n",
    "for emotion in mislabeled_files:\n",
    "    with open(os.path.join(output_dir, f'mislabeled_{emotion}.txt'), 'w') as file:\n",
    "        for filename in mislabeled_files[emotion]:\n",
    "            file.write(f\"{filename}\\n\")"
   ]
  }
 ],
 "metadata": {
  "kernelspec": {
   "display_name": "Python 3",
   "language": "python",
   "name": "python3"
  },
  "language_info": {
   "codemirror_mode": {
    "name": "ipython",
    "version": 3
   },
   "file_extension": ".py",
   "mimetype": "text/x-python",
   "name": "python",
   "nbconvert_exporter": "python",
   "pygments_lexer": "ipython3",
   "version": "3.10.9"
  }
 },
 "nbformat": 4,
 "nbformat_minor": 2
}
