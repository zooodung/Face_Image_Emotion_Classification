{
  "nbformat": 4,
  "nbformat_minor": 0,
  "metadata": {
    "colab": {
      "provenance": [],
      "authorship_tag": "ABX9TyMxDx+NN/A2N4WdViPXhwcx",
      "include_colab_link": true
    },
    "kernelspec": {
      "name": "python3",
      "display_name": "Python 3"
    },
    "language_info": {
      "name": "python"
    }
  },
  "cells": [
    {
      "cell_type": "markdown",
      "metadata": {
        "id": "view-in-github",
        "colab_type": "text"
      },
      "source": [
        "<a href=\"https://colab.research.google.com/github/zooodung/Face_Image_Emotion_Classification/blob/JS/FP_EDA.ipynb\" target=\"_parent\"><img src=\"https://colab.research.google.com/assets/colab-badge.svg\" alt=\"Open In Colab\"/></a>"
      ]
    },
    {
      "cell_type": "code",
      "execution_count": null,
      "metadata": {
        "id": "U6NdofWP-XH6"
      },
      "outputs": [],
      "source": [
        "import json\n",
        "import numpy as np\n",
        "import glob\n",
        "import os\n",
        "import matplotlib.pyplot as plt\n",
        "import cv2\n",
        "import pandas as pd\n",
        "from matplotlib.colors import ListedColormap"
      ]
    },
    {
      "cell_type": "code",
      "source": [
        "#TRAIN_JSON_PATH = '/content/Data/label/train/'\n",
        "TRAIN_JSON_PATH = '/content/'\n",
        "#VALID_JSON_PATH = '/content/Data/label/val/'\n",
        "\n",
        "#TRAIN_IMG_PATH = '/content/Data/img/train/'\n",
        "#VALID_IMG_PATH = '/content/Data/img/val/'\n",
        "\n",
        "TRAIN_SEGMENT_PATH = '/content/'\n",
        "#VALID_SEGMENT_PATH = '/content/Data/segmentation/val/'"
      ],
      "metadata": {
        "id": "e93dsqhY--Pt"
      },
      "execution_count": null,
      "outputs": []
    },
    {
      "cell_type": "markdown",
      "source": [
        "### Label"
      ],
      "metadata": {
        "id": "lkq2ZJXrCHbg"
      }
    },
    {
      "cell_type": "code",
      "source": [
        "with open (TRAIN_JSON_PATH + \"train_anger.json\", \"r\", encoding='euc-kr') as f:\n",
        "    anger_label = json.load(f)\n",
        "with open (TRAIN_JSON_PATH + \"train_happy.json\", \"r\", encoding='euc-kr') as f:\n",
        "    happy_label = json.load(f)\n",
        "with open (TRAIN_JSON_PATH + \"train_panic.json\", \"r\", encoding='euc-kr') as f:\n",
        "    panic_label = json.load(f)\n",
        "with open (TRAIN_JSON_PATH + \"train_sadness.json\", \"r\", encoding='euc-kr') as f:\n",
        "    sadness_label = json.load(f)"
      ],
      "metadata": {
        "id": "RkYC3nFh_DSE"
      },
      "execution_count": null,
      "outputs": []
    },
    {
      "cell_type": "code",
      "source": [
        "anger_label[116]"
      ],
      "metadata": {
        "colab": {
          "base_uri": "https://localhost:8080/"
        },
        "id": "gQkVNmiG_Ele",
        "outputId": "b9a27e15-4fa7-481a-be48-3f1463e5998c"
      },
      "execution_count": null,
      "outputs": [
        {
          "output_type": "execute_result",
          "data": {
            "text/plain": [
              "{'filename': 'wky3958474ae5735a8a3fe0729952cf0e042584c3f37ec4f709ceef4121448l5o.jpg',\n",
              " 'gender': '여',\n",
              " 'age': 20,\n",
              " 'isProf': '일반인',\n",
              " 'faceExp_uploader': '분노',\n",
              " 'bg_uploader': '교통/이동수단(엘리베이터 포함)',\n",
              " 'annot_A': {'boxes': {'maxX': 2489.985145935132,\n",
              "   'maxY': 1179.8747768099136,\n",
              "   'minX': 1665.959563855069,\n",
              "   'minY': 356.10977493833894},\n",
              "  'faceExp': '상처',\n",
              "  'bg': '교통/이동수단(엘리베이터 포함)'},\n",
              " 'annot_B': {'boxes': {'maxX': 2489.9976,\n",
              "   'maxY': 1156.9716,\n",
              "   'minX': 1669.1569,\n",
              "   'minY': 199.26469999999998},\n",
              "  'faceExp': '분노',\n",
              "  'bg': '교통/이동수단(엘리베이터 포함)'},\n",
              " 'annot_C': {'boxes': {'maxX': 2489.9976,\n",
              "   'maxY': 1156.9716,\n",
              "   'minX': 1669.1569,\n",
              "   'minY': 199.2647},\n",
              "  'faceExp': '불안',\n",
              "  'bg': '교통/이동수단(엘리베이터 포함)'}}"
            ]
          },
          "metadata": {},
          "execution_count": 99
        }
      ]
    },
    {
      "cell_type": "code",
      "source": [
        "anger_label[0].keys()"
      ],
      "metadata": {
        "colab": {
          "base_uri": "https://localhost:8080/"
        },
        "id": "3Albq9v1_J-l",
        "outputId": "0cc346c9-b201-4f27-e76b-f257a6c4b3d6"
      },
      "execution_count": null,
      "outputs": [
        {
          "output_type": "execute_result",
          "data": {
            "text/plain": [
              "dict_keys(['filename', 'gender', 'age', 'isProf', 'faceExp_uploader', 'bg_uploader', 'annot_A', 'annot_B', 'annot_C'])"
            ]
          },
          "metadata": {},
          "execution_count": 13
        }
      ]
    },
    {
      "cell_type": "code",
      "source": [
        "print(len(anger_label))\n",
        "print(len(happy_label))\n",
        "print(len(panic_label))\n",
        "print(len(sadness_label))"
      ],
      "metadata": {
        "colab": {
          "base_uri": "https://localhost:8080/"
        },
        "id": "0STN9lWbCFdk",
        "outputId": "a8282141-12ee-424e-ca23-b28d22ce12b2"
      },
      "execution_count": null,
      "outputs": [
        {
          "output_type": "stream",
          "name": "stdout",
          "text": [
            "1500\n",
            "1494\n",
            "1500\n",
            "1500\n"
          ]
        }
      ]
    },
    {
      "cell_type": "code",
      "source": [
        "anger_label_df = pd.DataFrame(anger_label)\n",
        "happy_label_df = pd.DataFrame(happy_label)\n",
        "panic_label_df = pd.DataFrame(panic_label)\n",
        "sadness_label_df = pd.DataFrame(sadness_label)"
      ],
      "metadata": {
        "id": "f4CcL-oyOvNc"
      },
      "execution_count": null,
      "outputs": []
    },
    {
      "cell_type": "code",
      "source": [
        "print(\"anger\\n\", anger_label_df.describe())\n",
        "print(\"------------------\")\n",
        "print(\"happy\\n\", happy_label_df.describe())\n",
        "print(\"------------------\")\n",
        "print(\"panic\\n\", panic_label_df.describe())\n",
        "print(\"------------------\")\n",
        "print(\"sadness\\n\", sadness_label_df.describe())"
      ],
      "metadata": {
        "colab": {
          "base_uri": "https://localhost:8080/"
        },
        "id": "YZw1alhhPa14",
        "outputId": "c9f41cfe-71d5-4c55-f431-5be630934d53"
      },
      "execution_count": null,
      "outputs": [
        {
          "output_type": "stream",
          "name": "stdout",
          "text": [
            "anger\n",
            "                age\n",
            "count  1500.000000\n",
            "mean     26.333333\n",
            "std       7.962275\n",
            "min      10.000000\n",
            "25%      20.000000\n",
            "50%      20.000000\n",
            "75%      30.000000\n",
            "max      60.000000\n",
            "------------------\n",
            "happy\n",
            "                age\n",
            "count  1494.000000\n",
            "mean     26.392236\n",
            "std       8.251495\n",
            "min      10.000000\n",
            "25%      20.000000\n",
            "50%      20.000000\n",
            "75%      30.000000\n",
            "max      50.000000\n",
            "------------------\n",
            "panic\n",
            "                age\n",
            "count  1500.000000\n",
            "mean     26.253333\n",
            "std       8.157217\n",
            "min      10.000000\n",
            "25%      20.000000\n",
            "50%      20.000000\n",
            "75%      30.000000\n",
            "max      50.000000\n",
            "------------------\n",
            "sadness\n",
            "                age\n",
            "count  1500.000000\n",
            "mean     26.460000\n",
            "std       8.204467\n",
            "min      10.000000\n",
            "25%      20.000000\n",
            "50%      20.000000\n",
            "75%      30.000000\n",
            "max      60.000000\n"
          ]
        }
      ]
    },
    {
      "cell_type": "code",
      "source": [
        "print(\"anger\\n\", anger_label_df['gender'].value_counts())\n",
        "print(\"------------------\")\n",
        "print(\"happy\\n\", happy_label_df['gender'].value_counts())\n",
        "print(\"------------------\")\n",
        "print(\"panic\\n\", panic_label_df['gender'].value_counts())\n",
        "print(\"------------------\")\n",
        "print(\"sadness\\n\", sadness_label_df['gender'].value_counts())"
      ],
      "metadata": {
        "colab": {
          "base_uri": "https://localhost:8080/"
        },
        "id": "ljW8935DY274",
        "outputId": "0d53da84-91c6-4bdc-bae8-c8d861e2ea04"
      },
      "execution_count": null,
      "outputs": [
        {
          "output_type": "stream",
          "name": "stdout",
          "text": [
            "anger\n",
            " gender\n",
            "여    804\n",
            "남    696\n",
            "Name: count, dtype: int64\n",
            "------------------\n",
            "happy\n",
            " gender\n",
            "여    810\n",
            "남    684\n",
            "Name: count, dtype: int64\n",
            "------------------\n",
            "panic\n",
            " gender\n",
            "여    784\n",
            "남    716\n",
            "Name: count, dtype: int64\n",
            "------------------\n",
            "sadness\n",
            " gender\n",
            "여    838\n",
            "남    662\n",
            "Name: count, dtype: int64\n"
          ]
        }
      ]
    },
    {
      "cell_type": "code",
      "source": [
        "print(\"anger\\n\", anger_label_df['isProf'].value_counts())\n",
        "print(\"------------------\")\n",
        "print(\"happy\\n\", happy_label_df['isProf'].value_counts())\n",
        "print(\"------------------\")\n",
        "print(\"panic\\n\", panic_label_df['isProf'].value_counts())\n",
        "print(\"------------------\")\n",
        "print(\"sadness\\n\", sadness_label_df['isProf'].value_counts())"
      ],
      "metadata": {
        "colab": {
          "base_uri": "https://localhost:8080/"
        },
        "id": "qT2wBnk0aBln",
        "outputId": "fc1c0127-e443-476f-b36f-bc8355f23088"
      },
      "execution_count": null,
      "outputs": [
        {
          "output_type": "stream",
          "name": "stdout",
          "text": [
            "anger\n",
            " isProf\n",
            "일반인    778\n",
            "전문인    722\n",
            "Name: count, dtype: int64\n",
            "------------------\n",
            "happy\n",
            " isProf\n",
            "일반인    827\n",
            "전문인    667\n",
            "Name: count, dtype: int64\n",
            "------------------\n",
            "panic\n",
            " isProf\n",
            "일반인    770\n",
            "전문인    730\n",
            "Name: count, dtype: int64\n",
            "------------------\n",
            "sadness\n",
            " isProf\n",
            "일반인    812\n",
            "전문인    688\n",
            "Name: count, dtype: int64\n"
          ]
        }
      ]
    },
    {
      "cell_type": "code",
      "source": [
        "print(\"anger\\n\", anger_label_df['faceExp_uploader'].value_counts())\n",
        "print(\"------------------\")\n",
        "print(\"happy\\n\", happy_label_df['faceExp_uploader'].value_counts())\n",
        "print(\"------------------\")\n",
        "print(\"panic\\n\", panic_label_df['faceExp_uploader'].value_counts())\n",
        "print(\"------------------\")\n",
        "print(\"sadness\\n\", sadness_label_df['faceExp_uploader'].value_counts())"
      ],
      "metadata": {
        "colab": {
          "base_uri": "https://localhost:8080/"
        },
        "id": "tiyWtIKFbuWG",
        "outputId": "83b1e62e-7035-4b8a-9d23-c7da08d84579"
      },
      "execution_count": null,
      "outputs": [
        {
          "output_type": "stream",
          "name": "stdout",
          "text": [
            "anger\n",
            " faceExp_uploader\n",
            "분노    1500\n",
            "Name: count, dtype: int64\n",
            "------------------\n",
            "happy\n",
            " faceExp_uploader\n",
            "기쁨    1494\n",
            "Name: count, dtype: int64\n",
            "------------------\n",
            "panic\n",
            " faceExp_uploader\n",
            "당황    1500\n",
            "Name: count, dtype: int64\n",
            "------------------\n",
            "sadness\n",
            " faceExp_uploader\n",
            "슬픔    1500\n",
            "Name: count, dtype: int64\n"
          ]
        }
      ]
    },
    {
      "cell_type": "code",
      "source": [
        "print(\"anger\\n\", anger_label_df['bg_uploader'].value_counts())\n",
        "print(\"------------------\")\n",
        "print(\"happy\\n\", happy_label_df['bg_uploader'].value_counts())\n",
        "print(\"------------------\")\n",
        "print(\"panic\\n\", panic_label_df['bg_uploader'].value_counts())\n",
        "print(\"------------------\")\n",
        "print(\"sadness\\n\", sadness_label_df['bg_uploader'].value_counts())"
      ],
      "metadata": {
        "colab": {
          "base_uri": "https://localhost:8080/"
        },
        "id": "L8hNFIqYcT2a",
        "outputId": "b1284a3e-bfb8-469f-b443-8a5d32bd80c8"
      },
      "execution_count": null,
      "outputs": [
        {
          "output_type": "stream",
          "name": "stdout",
          "text": [
            "anger\n",
            " bg_uploader\n",
            "상업시설/점포/시장           271\n",
            "숙박 및 거주공간            261\n",
            "공공시설/종교/의료시설         196\n",
            "도심 환경                189\n",
            "실외 자연환경              151\n",
            "교통/이동수단(엘리베이터 포함)    141\n",
            "문화재 및 유적지             81\n",
            "오락/공연시설               79\n",
            "스포츠 관람 및 레저시설         77\n",
            "행사/사무공간               54\n",
            "Name: count, dtype: int64\n",
            "------------------\n",
            "happy\n",
            " bg_uploader\n",
            "숙박 및 거주공간            291\n",
            "상업시설/점포/시장           231\n",
            "공공시설/종교/의료시설         197\n",
            "실외 자연환경              166\n",
            "교통/이동수단(엘리베이터 포함)    165\n",
            "도심 환경                158\n",
            "문화재 및 유적지             89\n",
            "행사/사무공간               74\n",
            "스포츠 관람 및 레저시설         62\n",
            "오락/공연시설               61\n",
            "Name: count, dtype: int64\n",
            "------------------\n",
            "panic\n",
            " bg_uploader\n",
            "숙박 및 거주공간            278\n",
            "상업시설/점포/시장           236\n",
            "도심 환경                193\n",
            "공공시설/종교/의료시설         178\n",
            "실외 자연환경              154\n",
            "교통/이동수단(엘리베이터 포함)    148\n",
            "오락/공연시설               82\n",
            "문화재 및 유적지             79\n",
            "행사/사무공간               78\n",
            "스포츠 관람 및 레저시설         74\n",
            "Name: count, dtype: int64\n",
            "------------------\n",
            "sadness\n",
            " bg_uploader\n",
            "숙박 및 거주공간            289\n",
            "상업시설/점포/시장           231\n",
            "도심 환경                184\n",
            "공공시설/종교/의료시설         174\n",
            "교통/이동수단(엘리베이터 포함)    157\n",
            "실외 자연환경              153\n",
            "문화재 및 유적지             85\n",
            "오락/공연시설               83\n",
            "행사/사무공간               73\n",
            "스포츠 관람 및 레저시설         71\n",
            "Name: count, dtype: int64\n"
          ]
        }
      ]
    },
    {
      "cell_type": "code",
      "source": [
        "all_label_df = pd.concat([anger_label_df, happy_label_df, panic_label_df, sadness_label_df], axis=0)"
      ],
      "metadata": {
        "id": "1mGXJxZ6hehN"
      },
      "execution_count": null,
      "outputs": []
    },
    {
      "cell_type": "code",
      "source": [
        "all_label_df"
      ],
      "metadata": {
        "colab": {
          "base_uri": "https://localhost:8080/",
          "height": 754
        },
        "id": "BodCUrbrjF0z",
        "outputId": "05473fc5-f46b-4536-e4ba-af6df37ff6fb"
      },
      "execution_count": null,
      "outputs": [
        {
          "output_type": "execute_result",
          "data": {
            "text/plain": [
              "                                               filename gender  age isProf  \\\n",
              "0     6oj439e3fbcc52759fb3093035b7c0ecc55c93543dae63...      남   30    일반인   \n",
              "1     65rsfe402042f34319e10128c1ab9614e2f967690a64a0...      남   40    전문인   \n",
              "2     b1cbe34734870cc11c33334e02bea93ac3a3b061caab62...      여   20    전문인   \n",
              "3     llfycc0aa29599cc63cace3610fdaaad3a99aab2ee38c9...      여   50    일반인   \n",
              "4     3hww73b70615461a7336d0383b53582f8bf804f6e0f30d...      여   30    일반인   \n",
              "...                                                 ...    ...  ...    ...   \n",
              "1495  ha8z5c205df254ec0e462951a5ee331276096c29f5e4f4...      여   50    일반인   \n",
              "1496  6n6y2563675de5f53e1570a25fa615ea1ce5876c9a8711...      남   40    전문인   \n",
              "1497  t4e50b083ffe45071ea1871e1d433e0095fa101e3c5ec1...      여   20    전문인   \n",
              "1498  ob661e0f447bb24def8a55fe0ddabba4de1b5ee7983145...      여   30    일반인   \n",
              "1499  zygcc2ae65d241fa88e458f5a933aa46a4e3f1d666d654...      남   20    전문인   \n",
              "\n",
              "     faceExp_uploader        bg_uploader  \\\n",
              "0                  분노  교통/이동수단(엘리베이터 포함)   \n",
              "1                  분노          문화재 및 유적지   \n",
              "2                  분노            오락/공연시설   \n",
              "3                  분노       공공시설/종교/의료시설   \n",
              "4                  분노         상업시설/점포/시장   \n",
              "...               ...                ...   \n",
              "1495               슬픔            실외 자연환경   \n",
              "1496               슬픔              도심 환경   \n",
              "1497               슬픔         상업시설/점포/시장   \n",
              "1498               슬픔          숙박 및 거주공간   \n",
              "1499               슬픔         상업시설/점포/시장   \n",
              "\n",
              "                                                annot_A  \\\n",
              "0     {'boxes': {'maxX': 2073.2546049999996, 'maxY':...   \n",
              "1     {'boxes': {'maxX': 2889.526926369863, 'maxY': ...   \n",
              "2     {'boxes': {'maxX': 1950.3801187037307, 'maxY':...   \n",
              "3     {'boxes': {'maxX': 849.4007, 'maxY': 1153.1373...   \n",
              "4     {'boxes': {'maxX': 1402.8889, 'maxY': 1383.816...   \n",
              "...                                                 ...   \n",
              "1495  {'boxes': {'maxX': 2414.418, 'maxY': 1564.1376...   \n",
              "1496  {'boxes': {'maxX': 1775.5145528807302, 'maxY':...   \n",
              "1497  {'boxes': {'maxX': 1905.7344000000005, 'maxY':...   \n",
              "1498  {'boxes': {'maxX': 2000.7433197546998, 'maxY':...   \n",
              "1499  {'boxes': {'maxX': 1032.8927, 'maxY': 1335.293...   \n",
              "\n",
              "                                                annot_B  \\\n",
              "0     {'boxes': {'maxX': 2074.6636049999997, 'maxY':...   \n",
              "1     {'boxes': {'maxX': 2875.110463896304, 'maxY': ...   \n",
              "2     {'boxes': {'maxX': 2036.4635129993103, 'maxY':...   \n",
              "3     {'boxes': {'maxX': 868.2845309560165, 'maxY': ...   \n",
              "4     {'boxes': {'maxX': 1405.7005764318, 'maxY': 13...   \n",
              "...                                                 ...   \n",
              "1495  {'boxes': {'maxX': 2414.418, 'maxY': 1564.1376...   \n",
              "1496  {'boxes': {'maxX': 1775.6628988843047, 'maxY':...   \n",
              "1497  {'boxes': {'maxX': 1905.7344, 'maxY': 1281.937...   \n",
              "1498  {'boxes': {'maxX': 2017.8518620255277, 'maxY':...   \n",
              "1499  {'boxes': {'maxX': 1023.3577442403264, 'maxY':...   \n",
              "\n",
              "                                                annot_C  \n",
              "0     {'boxes': {'maxX': 2072.188605, 'maxY': 1487.9...  \n",
              "1     {'boxes': {'maxX': 2902.7341, 'maxY': 2300.207...  \n",
              "2     {'boxes': {'maxX': 1953.1189999999997, 'maxY':...  \n",
              "3     {'boxes': {'maxX': 849.4007, 'maxY': 1153.1373...  \n",
              "4     {'boxes': {'maxX': 1402.8889, 'maxY': 1383.816...  \n",
              "...                                                 ...  \n",
              "1495  {'boxes': {'maxX': 2414.418, 'maxY': 1564.1376...  \n",
              "1496  {'boxes': {'maxX': 1775.4422352478966, 'maxY':...  \n",
              "1497  {'boxes': {'maxX': 1905.7344, 'maxY': 1281.937...  \n",
              "1498  {'boxes': {'maxX': 2004.1903603001647, 'maxY':...  \n",
              "1499  {'boxes': {'maxX': 1017.5351580627035, 'maxY':...  \n",
              "\n",
              "[5994 rows x 9 columns]"
            ],
            "text/html": [
              "\n",
              "  <div id=\"df-5db14aff-a3dd-463d-8e58-569958405362\" class=\"colab-df-container\">\n",
              "    <div>\n",
              "<style scoped>\n",
              "    .dataframe tbody tr th:only-of-type {\n",
              "        vertical-align: middle;\n",
              "    }\n",
              "\n",
              "    .dataframe tbody tr th {\n",
              "        vertical-align: top;\n",
              "    }\n",
              "\n",
              "    .dataframe thead th {\n",
              "        text-align: right;\n",
              "    }\n",
              "</style>\n",
              "<table border=\"1\" class=\"dataframe\">\n",
              "  <thead>\n",
              "    <tr style=\"text-align: right;\">\n",
              "      <th></th>\n",
              "      <th>filename</th>\n",
              "      <th>gender</th>\n",
              "      <th>age</th>\n",
              "      <th>isProf</th>\n",
              "      <th>faceExp_uploader</th>\n",
              "      <th>bg_uploader</th>\n",
              "      <th>annot_A</th>\n",
              "      <th>annot_B</th>\n",
              "      <th>annot_C</th>\n",
              "    </tr>\n",
              "  </thead>\n",
              "  <tbody>\n",
              "    <tr>\n",
              "      <th>0</th>\n",
              "      <td>6oj439e3fbcc52759fb3093035b7c0ecc55c93543dae63...</td>\n",
              "      <td>남</td>\n",
              "      <td>30</td>\n",
              "      <td>일반인</td>\n",
              "      <td>분노</td>\n",
              "      <td>교통/이동수단(엘리베이터 포함)</td>\n",
              "      <td>{'boxes': {'maxX': 2073.2546049999996, 'maxY':...</td>\n",
              "      <td>{'boxes': {'maxX': 2074.6636049999997, 'maxY':...</td>\n",
              "      <td>{'boxes': {'maxX': 2072.188605, 'maxY': 1487.9...</td>\n",
              "    </tr>\n",
              "    <tr>\n",
              "      <th>1</th>\n",
              "      <td>65rsfe402042f34319e10128c1ab9614e2f967690a64a0...</td>\n",
              "      <td>남</td>\n",
              "      <td>40</td>\n",
              "      <td>전문인</td>\n",
              "      <td>분노</td>\n",
              "      <td>문화재 및 유적지</td>\n",
              "      <td>{'boxes': {'maxX': 2889.526926369863, 'maxY': ...</td>\n",
              "      <td>{'boxes': {'maxX': 2875.110463896304, 'maxY': ...</td>\n",
              "      <td>{'boxes': {'maxX': 2902.7341, 'maxY': 2300.207...</td>\n",
              "    </tr>\n",
              "    <tr>\n",
              "      <th>2</th>\n",
              "      <td>b1cbe34734870cc11c33334e02bea93ac3a3b061caab62...</td>\n",
              "      <td>여</td>\n",
              "      <td>20</td>\n",
              "      <td>전문인</td>\n",
              "      <td>분노</td>\n",
              "      <td>오락/공연시설</td>\n",
              "      <td>{'boxes': {'maxX': 1950.3801187037307, 'maxY':...</td>\n",
              "      <td>{'boxes': {'maxX': 2036.4635129993103, 'maxY':...</td>\n",
              "      <td>{'boxes': {'maxX': 1953.1189999999997, 'maxY':...</td>\n",
              "    </tr>\n",
              "    <tr>\n",
              "      <th>3</th>\n",
              "      <td>llfycc0aa29599cc63cace3610fdaaad3a99aab2ee38c9...</td>\n",
              "      <td>여</td>\n",
              "      <td>50</td>\n",
              "      <td>일반인</td>\n",
              "      <td>분노</td>\n",
              "      <td>공공시설/종교/의료시설</td>\n",
              "      <td>{'boxes': {'maxX': 849.4007, 'maxY': 1153.1373...</td>\n",
              "      <td>{'boxes': {'maxX': 868.2845309560165, 'maxY': ...</td>\n",
              "      <td>{'boxes': {'maxX': 849.4007, 'maxY': 1153.1373...</td>\n",
              "    </tr>\n",
              "    <tr>\n",
              "      <th>4</th>\n",
              "      <td>3hww73b70615461a7336d0383b53582f8bf804f6e0f30d...</td>\n",
              "      <td>여</td>\n",
              "      <td>30</td>\n",
              "      <td>일반인</td>\n",
              "      <td>분노</td>\n",
              "      <td>상업시설/점포/시장</td>\n",
              "      <td>{'boxes': {'maxX': 1402.8889, 'maxY': 1383.816...</td>\n",
              "      <td>{'boxes': {'maxX': 1405.7005764318, 'maxY': 13...</td>\n",
              "      <td>{'boxes': {'maxX': 1402.8889, 'maxY': 1383.816...</td>\n",
              "    </tr>\n",
              "    <tr>\n",
              "      <th>...</th>\n",
              "      <td>...</td>\n",
              "      <td>...</td>\n",
              "      <td>...</td>\n",
              "      <td>...</td>\n",
              "      <td>...</td>\n",
              "      <td>...</td>\n",
              "      <td>...</td>\n",
              "      <td>...</td>\n",
              "      <td>...</td>\n",
              "    </tr>\n",
              "    <tr>\n",
              "      <th>1495</th>\n",
              "      <td>ha8z5c205df254ec0e462951a5ee331276096c29f5e4f4...</td>\n",
              "      <td>여</td>\n",
              "      <td>50</td>\n",
              "      <td>일반인</td>\n",
              "      <td>슬픔</td>\n",
              "      <td>실외 자연환경</td>\n",
              "      <td>{'boxes': {'maxX': 2414.418, 'maxY': 1564.1376...</td>\n",
              "      <td>{'boxes': {'maxX': 2414.418, 'maxY': 1564.1376...</td>\n",
              "      <td>{'boxes': {'maxX': 2414.418, 'maxY': 1564.1376...</td>\n",
              "    </tr>\n",
              "    <tr>\n",
              "      <th>1496</th>\n",
              "      <td>6n6y2563675de5f53e1570a25fa615ea1ce5876c9a8711...</td>\n",
              "      <td>남</td>\n",
              "      <td>40</td>\n",
              "      <td>전문인</td>\n",
              "      <td>슬픔</td>\n",
              "      <td>도심 환경</td>\n",
              "      <td>{'boxes': {'maxX': 1775.5145528807302, 'maxY':...</td>\n",
              "      <td>{'boxes': {'maxX': 1775.6628988843047, 'maxY':...</td>\n",
              "      <td>{'boxes': {'maxX': 1775.4422352478966, 'maxY':...</td>\n",
              "    </tr>\n",
              "    <tr>\n",
              "      <th>1497</th>\n",
              "      <td>t4e50b083ffe45071ea1871e1d433e0095fa101e3c5ec1...</td>\n",
              "      <td>여</td>\n",
              "      <td>20</td>\n",
              "      <td>전문인</td>\n",
              "      <td>슬픔</td>\n",
              "      <td>상업시설/점포/시장</td>\n",
              "      <td>{'boxes': {'maxX': 1905.7344000000005, 'maxY':...</td>\n",
              "      <td>{'boxes': {'maxX': 1905.7344, 'maxY': 1281.937...</td>\n",
              "      <td>{'boxes': {'maxX': 1905.7344, 'maxY': 1281.937...</td>\n",
              "    </tr>\n",
              "    <tr>\n",
              "      <th>1498</th>\n",
              "      <td>ob661e0f447bb24def8a55fe0ddabba4de1b5ee7983145...</td>\n",
              "      <td>여</td>\n",
              "      <td>30</td>\n",
              "      <td>일반인</td>\n",
              "      <td>슬픔</td>\n",
              "      <td>숙박 및 거주공간</td>\n",
              "      <td>{'boxes': {'maxX': 2000.7433197546998, 'maxY':...</td>\n",
              "      <td>{'boxes': {'maxX': 2017.8518620255277, 'maxY':...</td>\n",
              "      <td>{'boxes': {'maxX': 2004.1903603001647, 'maxY':...</td>\n",
              "    </tr>\n",
              "    <tr>\n",
              "      <th>1499</th>\n",
              "      <td>zygcc2ae65d241fa88e458f5a933aa46a4e3f1d666d654...</td>\n",
              "      <td>남</td>\n",
              "      <td>20</td>\n",
              "      <td>전문인</td>\n",
              "      <td>슬픔</td>\n",
              "      <td>상업시설/점포/시장</td>\n",
              "      <td>{'boxes': {'maxX': 1032.8927, 'maxY': 1335.293...</td>\n",
              "      <td>{'boxes': {'maxX': 1023.3577442403264, 'maxY':...</td>\n",
              "      <td>{'boxes': {'maxX': 1017.5351580627035, 'maxY':...</td>\n",
              "    </tr>\n",
              "  </tbody>\n",
              "</table>\n",
              "<p>5994 rows × 9 columns</p>\n",
              "</div>\n",
              "    <div class=\"colab-df-buttons\">\n",
              "\n",
              "  <div class=\"colab-df-container\">\n",
              "    <button class=\"colab-df-convert\" onclick=\"convertToInteractive('df-5db14aff-a3dd-463d-8e58-569958405362')\"\n",
              "            title=\"Convert this dataframe to an interactive table.\"\n",
              "            style=\"display:none;\">\n",
              "\n",
              "  <svg xmlns=\"http://www.w3.org/2000/svg\" height=\"24px\" viewBox=\"0 -960 960 960\">\n",
              "    <path d=\"M120-120v-720h720v720H120Zm60-500h600v-160H180v160Zm220 220h160v-160H400v160Zm0 220h160v-160H400v160ZM180-400h160v-160H180v160Zm440 0h160v-160H620v160ZM180-180h160v-160H180v160Zm440 0h160v-160H620v160Z\"/>\n",
              "  </svg>\n",
              "    </button>\n",
              "\n",
              "  <style>\n",
              "    .colab-df-container {\n",
              "      display:flex;\n",
              "      gap: 12px;\n",
              "    }\n",
              "\n",
              "    .colab-df-convert {\n",
              "      background-color: #E8F0FE;\n",
              "      border: none;\n",
              "      border-radius: 50%;\n",
              "      cursor: pointer;\n",
              "      display: none;\n",
              "      fill: #1967D2;\n",
              "      height: 32px;\n",
              "      padding: 0 0 0 0;\n",
              "      width: 32px;\n",
              "    }\n",
              "\n",
              "    .colab-df-convert:hover {\n",
              "      background-color: #E2EBFA;\n",
              "      box-shadow: 0px 1px 2px rgba(60, 64, 67, 0.3), 0px 1px 3px 1px rgba(60, 64, 67, 0.15);\n",
              "      fill: #174EA6;\n",
              "    }\n",
              "\n",
              "    .colab-df-buttons div {\n",
              "      margin-bottom: 4px;\n",
              "    }\n",
              "\n",
              "    [theme=dark] .colab-df-convert {\n",
              "      background-color: #3B4455;\n",
              "      fill: #D2E3FC;\n",
              "    }\n",
              "\n",
              "    [theme=dark] .colab-df-convert:hover {\n",
              "      background-color: #434B5C;\n",
              "      box-shadow: 0px 1px 3px 1px rgba(0, 0, 0, 0.15);\n",
              "      filter: drop-shadow(0px 1px 2px rgba(0, 0, 0, 0.3));\n",
              "      fill: #FFFFFF;\n",
              "    }\n",
              "  </style>\n",
              "\n",
              "    <script>\n",
              "      const buttonEl =\n",
              "        document.querySelector('#df-5db14aff-a3dd-463d-8e58-569958405362 button.colab-df-convert');\n",
              "      buttonEl.style.display =\n",
              "        google.colab.kernel.accessAllowed ? 'block' : 'none';\n",
              "\n",
              "      async function convertToInteractive(key) {\n",
              "        const element = document.querySelector('#df-5db14aff-a3dd-463d-8e58-569958405362');\n",
              "        const dataTable =\n",
              "          await google.colab.kernel.invokeFunction('convertToInteractive',\n",
              "                                                    [key], {});\n",
              "        if (!dataTable) return;\n",
              "\n",
              "        const docLinkHtml = 'Like what you see? Visit the ' +\n",
              "          '<a target=\"_blank\" href=https://colab.research.google.com/notebooks/data_table.ipynb>data table notebook</a>'\n",
              "          + ' to learn more about interactive tables.';\n",
              "        element.innerHTML = '';\n",
              "        dataTable['output_type'] = 'display_data';\n",
              "        await google.colab.output.renderOutput(dataTable, element);\n",
              "        const docLink = document.createElement('div');\n",
              "        docLink.innerHTML = docLinkHtml;\n",
              "        element.appendChild(docLink);\n",
              "      }\n",
              "    </script>\n",
              "  </div>\n",
              "\n",
              "\n",
              "<div id=\"df-0e187d62-1e4b-4ade-9f02-a970b90e5bb8\">\n",
              "  <button class=\"colab-df-quickchart\" onclick=\"quickchart('df-0e187d62-1e4b-4ade-9f02-a970b90e5bb8')\"\n",
              "            title=\"Suggest charts\"\n",
              "            style=\"display:none;\">\n",
              "\n",
              "<svg xmlns=\"http://www.w3.org/2000/svg\" height=\"24px\"viewBox=\"0 0 24 24\"\n",
              "     width=\"24px\">\n",
              "    <g>\n",
              "        <path d=\"M19 3H5c-1.1 0-2 .9-2 2v14c0 1.1.9 2 2 2h14c1.1 0 2-.9 2-2V5c0-1.1-.9-2-2-2zM9 17H7v-7h2v7zm4 0h-2V7h2v10zm4 0h-2v-4h2v4z\"/>\n",
              "    </g>\n",
              "</svg>\n",
              "  </button>\n",
              "\n",
              "<style>\n",
              "  .colab-df-quickchart {\n",
              "      --bg-color: #E8F0FE;\n",
              "      --fill-color: #1967D2;\n",
              "      --hover-bg-color: #E2EBFA;\n",
              "      --hover-fill-color: #174EA6;\n",
              "      --disabled-fill-color: #AAA;\n",
              "      --disabled-bg-color: #DDD;\n",
              "  }\n",
              "\n",
              "  [theme=dark] .colab-df-quickchart {\n",
              "      --bg-color: #3B4455;\n",
              "      --fill-color: #D2E3FC;\n",
              "      --hover-bg-color: #434B5C;\n",
              "      --hover-fill-color: #FFFFFF;\n",
              "      --disabled-bg-color: #3B4455;\n",
              "      --disabled-fill-color: #666;\n",
              "  }\n",
              "\n",
              "  .colab-df-quickchart {\n",
              "    background-color: var(--bg-color);\n",
              "    border: none;\n",
              "    border-radius: 50%;\n",
              "    cursor: pointer;\n",
              "    display: none;\n",
              "    fill: var(--fill-color);\n",
              "    height: 32px;\n",
              "    padding: 0;\n",
              "    width: 32px;\n",
              "  }\n",
              "\n",
              "  .colab-df-quickchart:hover {\n",
              "    background-color: var(--hover-bg-color);\n",
              "    box-shadow: 0 1px 2px rgba(60, 64, 67, 0.3), 0 1px 3px 1px rgba(60, 64, 67, 0.15);\n",
              "    fill: var(--button-hover-fill-color);\n",
              "  }\n",
              "\n",
              "  .colab-df-quickchart-complete:disabled,\n",
              "  .colab-df-quickchart-complete:disabled:hover {\n",
              "    background-color: var(--disabled-bg-color);\n",
              "    fill: var(--disabled-fill-color);\n",
              "    box-shadow: none;\n",
              "  }\n",
              "\n",
              "  .colab-df-spinner {\n",
              "    border: 2px solid var(--fill-color);\n",
              "    border-color: transparent;\n",
              "    border-bottom-color: var(--fill-color);\n",
              "    animation:\n",
              "      spin 1s steps(1) infinite;\n",
              "  }\n",
              "\n",
              "  @keyframes spin {\n",
              "    0% {\n",
              "      border-color: transparent;\n",
              "      border-bottom-color: var(--fill-color);\n",
              "      border-left-color: var(--fill-color);\n",
              "    }\n",
              "    20% {\n",
              "      border-color: transparent;\n",
              "      border-left-color: var(--fill-color);\n",
              "      border-top-color: var(--fill-color);\n",
              "    }\n",
              "    30% {\n",
              "      border-color: transparent;\n",
              "      border-left-color: var(--fill-color);\n",
              "      border-top-color: var(--fill-color);\n",
              "      border-right-color: var(--fill-color);\n",
              "    }\n",
              "    40% {\n",
              "      border-color: transparent;\n",
              "      border-right-color: var(--fill-color);\n",
              "      border-top-color: var(--fill-color);\n",
              "    }\n",
              "    60% {\n",
              "      border-color: transparent;\n",
              "      border-right-color: var(--fill-color);\n",
              "    }\n",
              "    80% {\n",
              "      border-color: transparent;\n",
              "      border-right-color: var(--fill-color);\n",
              "      border-bottom-color: var(--fill-color);\n",
              "    }\n",
              "    90% {\n",
              "      border-color: transparent;\n",
              "      border-bottom-color: var(--fill-color);\n",
              "    }\n",
              "  }\n",
              "</style>\n",
              "\n",
              "  <script>\n",
              "    async function quickchart(key) {\n",
              "      const quickchartButtonEl =\n",
              "        document.querySelector('#' + key + ' button');\n",
              "      quickchartButtonEl.disabled = true;  // To prevent multiple clicks.\n",
              "      quickchartButtonEl.classList.add('colab-df-spinner');\n",
              "      try {\n",
              "        const charts = await google.colab.kernel.invokeFunction(\n",
              "            'suggestCharts', [key], {});\n",
              "      } catch (error) {\n",
              "        console.error('Error during call to suggestCharts:', error);\n",
              "      }\n",
              "      quickchartButtonEl.classList.remove('colab-df-spinner');\n",
              "      quickchartButtonEl.classList.add('colab-df-quickchart-complete');\n",
              "    }\n",
              "    (() => {\n",
              "      let quickchartButtonEl =\n",
              "        document.querySelector('#df-0e187d62-1e4b-4ade-9f02-a970b90e5bb8 button');\n",
              "      quickchartButtonEl.style.display =\n",
              "        google.colab.kernel.accessAllowed ? 'block' : 'none';\n",
              "    })();\n",
              "  </script>\n",
              "</div>\n",
              "\n",
              "  <div id=\"id_400527fa-e80c-4983-abad-a282922056d4\">\n",
              "    <style>\n",
              "      .colab-df-generate {\n",
              "        background-color: #E8F0FE;\n",
              "        border: none;\n",
              "        border-radius: 50%;\n",
              "        cursor: pointer;\n",
              "        display: none;\n",
              "        fill: #1967D2;\n",
              "        height: 32px;\n",
              "        padding: 0 0 0 0;\n",
              "        width: 32px;\n",
              "      }\n",
              "\n",
              "      .colab-df-generate:hover {\n",
              "        background-color: #E2EBFA;\n",
              "        box-shadow: 0px 1px 2px rgba(60, 64, 67, 0.3), 0px 1px 3px 1px rgba(60, 64, 67, 0.15);\n",
              "        fill: #174EA6;\n",
              "      }\n",
              "\n",
              "      [theme=dark] .colab-df-generate {\n",
              "        background-color: #3B4455;\n",
              "        fill: #D2E3FC;\n",
              "      }\n",
              "\n",
              "      [theme=dark] .colab-df-generate:hover {\n",
              "        background-color: #434B5C;\n",
              "        box-shadow: 0px 1px 3px 1px rgba(0, 0, 0, 0.15);\n",
              "        filter: drop-shadow(0px 1px 2px rgba(0, 0, 0, 0.3));\n",
              "        fill: #FFFFFF;\n",
              "      }\n",
              "    </style>\n",
              "    <button class=\"colab-df-generate\" onclick=\"generateWithVariable('all_label_df')\"\n",
              "            title=\"Generate code using this dataframe.\"\n",
              "            style=\"display:none;\">\n",
              "\n",
              "  <svg xmlns=\"http://www.w3.org/2000/svg\" height=\"24px\"viewBox=\"0 0 24 24\"\n",
              "       width=\"24px\">\n",
              "    <path d=\"M7,19H8.4L18.45,9,17,7.55,7,17.6ZM5,21V16.75L18.45,3.32a2,2,0,0,1,2.83,0l1.4,1.43a1.91,1.91,0,0,1,.58,1.4,1.91,1.91,0,0,1-.58,1.4L9.25,21ZM18.45,9,17,7.55Zm-12,3A5.31,5.31,0,0,0,4.9,8.1,5.31,5.31,0,0,0,1,6.5,5.31,5.31,0,0,0,4.9,4.9,5.31,5.31,0,0,0,6.5,1,5.31,5.31,0,0,0,8.1,4.9,5.31,5.31,0,0,0,12,6.5,5.46,5.46,0,0,0,6.5,12Z\"/>\n",
              "  </svg>\n",
              "    </button>\n",
              "    <script>\n",
              "      (() => {\n",
              "      const buttonEl =\n",
              "        document.querySelector('#id_400527fa-e80c-4983-abad-a282922056d4 button.colab-df-generate');\n",
              "      buttonEl.style.display =\n",
              "        google.colab.kernel.accessAllowed ? 'block' : 'none';\n",
              "\n",
              "      buttonEl.onclick = () => {\n",
              "        google.colab.notebook.generateWithVariable('all_label_df');\n",
              "      }\n",
              "      })();\n",
              "    </script>\n",
              "  </div>\n",
              "\n",
              "    </div>\n",
              "  </div>\n"
            ],
            "application/vnd.google.colaboratory.intrinsic+json": {
              "type": "dataframe",
              "variable_name": "all_label_df",
              "summary": "{\n  \"name\": \"all_label_df\",\n  \"rows\": 5994,\n  \"fields\": [\n    {\n      \"column\": \"filename\",\n      \"properties\": {\n        \"dtype\": \"string\",\n        \"num_unique_values\": 5994,\n        \"samples\": [\n          \"ndxka6ca9c9c1b25e60601012abdd00a4f16d141bed1c69d5c2e7d60a8fccj51c.jpg\",\n          \"w3iv16484e5569e7abb5aa2a5e685e455e818811c8a42685527b72a7b5da3xt5i.jpg\",\n          \"y9qif5636e98a6b17ee6853bdb303296b2c4b1b19e3d6a307bcda726a2837blw0.jpg\"\n        ],\n        \"semantic_type\": \"\",\n        \"description\": \"\"\n      }\n    },\n    {\n      \"column\": \"gender\",\n      \"properties\": {\n        \"dtype\": \"category\",\n        \"num_unique_values\": 2,\n        \"samples\": [\n          \"\\uc5ec\",\n          \"\\ub0a8\"\n        ],\n        \"semantic_type\": \"\",\n        \"description\": \"\"\n      }\n    },\n    {\n      \"column\": \"age\",\n      \"properties\": {\n        \"dtype\": \"number\",\n        \"std\": 8,\n        \"min\": 10,\n        \"max\": 60,\n        \"num_unique_values\": 6,\n        \"samples\": [\n          30,\n          40\n        ],\n        \"semantic_type\": \"\",\n        \"description\": \"\"\n      }\n    },\n    {\n      \"column\": \"isProf\",\n      \"properties\": {\n        \"dtype\": \"category\",\n        \"num_unique_values\": 2,\n        \"samples\": [\n          \"\\uc804\\ubb38\\uc778\",\n          \"\\uc77c\\ubc18\\uc778\"\n        ],\n        \"semantic_type\": \"\",\n        \"description\": \"\"\n      }\n    },\n    {\n      \"column\": \"faceExp_uploader\",\n      \"properties\": {\n        \"dtype\": \"category\",\n        \"num_unique_values\": 4,\n        \"samples\": [\n          \"\\uae30\\uc068\",\n          \"\\uc2ac\\ud514\"\n        ],\n        \"semantic_type\": \"\",\n        \"description\": \"\"\n      }\n    },\n    {\n      \"column\": \"bg_uploader\",\n      \"properties\": {\n        \"dtype\": \"category\",\n        \"num_unique_values\": 10,\n        \"samples\": [\n          \"\\uc2e4\\uc678 \\uc790\\uc5f0\\ud658\\uacbd\",\n          \"\\ubb38\\ud654\\uc7ac \\ubc0f \\uc720\\uc801\\uc9c0\"\n        ],\n        \"semantic_type\": \"\",\n        \"description\": \"\"\n      }\n    },\n    {\n      \"column\": \"annot_A\",\n      \"properties\": {\n        \"dtype\": \"object\",\n        \"semantic_type\": \"\",\n        \"description\": \"\"\n      }\n    },\n    {\n      \"column\": \"annot_B\",\n      \"properties\": {\n        \"dtype\": \"object\",\n        \"semantic_type\": \"\",\n        \"description\": \"\"\n      }\n    },\n    {\n      \"column\": \"annot_C\",\n      \"properties\": {\n        \"dtype\": \"object\",\n        \"semantic_type\": \"\",\n        \"description\": \"\"\n      }\n    }\n  ]\n}"
            }
          },
          "metadata": {},
          "execution_count": 110
        }
      ]
    },
    {
      "cell_type": "code",
      "source": [
        "import pandas as pd\n",
        "import seaborn as sns\n",
        "import matplotlib.pyplot as plt\n",
        "\n",
        "label_df = pd.DataFrame(all_label_df)\n",
        "\n",
        "label_df['gender'] = label_df['gender'].replace({'남': 1, '여': 0})\n",
        "label_df['isProf'] = label_df['isProf'].replace({'전문인': 1, '일반인': 0})\n",
        "\n",
        "correlation_matrix = label_df[['gender', 'age', 'isProf']].corr()\n",
        "\n",
        "plt.figure(figsize=(10, 8))\n",
        "sns.heatmap(correlation_matrix, annot=True, cmap='coolwarm', vmin=-1, vmax=1)\n",
        "plt.show()"
      ],
      "metadata": {
        "colab": {
          "base_uri": "https://localhost:8080/",
          "height": 682
        },
        "id": "xTvx43V8ixoc",
        "outputId": "1d1403ee-5297-47fb-a28f-73a394de684a"
      },
      "execution_count": null,
      "outputs": [
        {
          "output_type": "display_data",
          "data": {
            "text/plain": [
              "<Figure size 1000x800 with 2 Axes>"
            ],
            "image/png": "[encoded data removed]"
          },
          "metadata": {}
        }
      ]
    },
    {
      "cell_type": "markdown",
      "source": [
        "### Segmentation"
      ],
      "metadata": {
        "id": "9X8wTnAGE0Uw"
      }
    },
    {
      "cell_type": "code",
      "source": [
        "anger_segment = np.load(TRAIN_SEGMENT_PATH + 'train_anger.npz')\n",
        "happy_segment = np.load(TRAIN_SEGMENT_PATH + 'train_happy.npz')\n",
        "panic_segment = np.load(TRAIN_SEGMENT_PATH + 'train_panic.npz')\n",
        "sadness_segment = np.load(TRAIN_SEGMENT_PATH + 'train_sadness.npz')"
      ],
      "metadata": {
        "id": "c1Z1cXahEzzF"
      },
      "execution_count": null,
      "outputs": []
    },
    {
      "cell_type": "code",
      "source": [
        "print(len(anger_segment))\n",
        "print(len(happy_segment))\n",
        "print(len(panic_segment))\n",
        "print(len(sadness_segment))"
      ],
      "metadata": {
        "colab": {
          "base_uri": "https://localhost:8080/"
        },
        "id": "uCi9ESh1Gq5A",
        "outputId": "ff071521-7c4c-4a5b-99ad-8962be7f3f74"
      },
      "execution_count": null,
      "outputs": [
        {
          "output_type": "stream",
          "name": "stdout",
          "text": [
            "1500\n",
            "1495\n",
            "1501\n",
            "1500\n"
          ]
        }
      ]
    },
    {
      "cell_type": "code",
      "source": [
        "print(anger_segment[anger_label[0]['filename']].shape)\n",
        "print(anger_segment[anger_label[1]['filename']].shape)"
      ],
      "metadata": {
        "colab": {
          "base_uri": "https://localhost:8080/"
        },
        "id": "0br-sFDsI8Px",
        "outputId": "24e5a6b1-0451-455a-d77e-9a23538b9f04"
      },
      "execution_count": null,
      "outputs": [
        {
          "output_type": "stream",
          "name": "stdout",
          "text": [
            "(2208, 2944)\n",
            "(2592, 4608)\n"
          ]
        }
      ]
    },
    {
      "cell_type": "code",
      "source": [
        "colors = ['purple', 'yellow', 'red', 'green', 'blue', 'orange']\n",
        "cmap = ListedColormap(colors)"
      ],
      "metadata": {
        "id": "SpF_15PDJVKI"
      },
      "execution_count": null,
      "outputs": []
    },
    {
      "cell_type": "code",
      "source": [
        "plt.imshow(anger_segment[anger_label[0]['filename']], cmap=cmap, vmin=0, vmax=5)"
      ],
      "metadata": {
        "colab": {
          "base_uri": "https://localhost:8080/",
          "height": 453
        },
        "id": "4k9gVXv9JXZo",
        "outputId": "c80d88e9-e42d-42dc-90b9-e9bc5406d63f"
      },
      "execution_count": null,
      "outputs": [
        {
          "output_type": "execute_result",
          "data": {
            "text/plain": [
              "<matplotlib.image.AxesImage at 0x7c183c0ec790>"
            ]
          },
          "metadata": {},
          "execution_count": 36
        },
        {
          "output_type": "display_data",
          "data": {
            "text/plain": [
              "<Figure size 640x480 with 1 Axes>"
            ],
            "image/png": "[encoded data removed]"
          },
          "metadata": {}
        }
      ]
    },
    {
      "cell_type": "code",
      "source": [
        "anger_segment[anger_label[0]['filename']]"
      ],
      "metadata": {
        "colab": {
          "base_uri": "https://localhost:8080/"
        },
        "id": "7VoemYEnK17g",
        "outputId": "cfbf5700-545a-4360-e13f-8164716a33f2"
      },
      "execution_count": null,
      "outputs": [
        {
          "output_type": "execute_result",
          "data": {
            "text/plain": [
              "array([[0, 0, 0, ..., 0, 0, 0],\n",
              "       [0, 0, 0, ..., 0, 0, 0],\n",
              "       [0, 0, 0, ..., 0, 0, 0],\n",
              "       ...,\n",
              "       [0, 0, 0, ..., 4, 4, 4],\n",
              "       [0, 0, 0, ..., 4, 4, 4],\n",
              "       [0, 0, 0, ..., 4, 4, 4]], dtype=uint8)"
            ]
          },
          "metadata": {},
          "execution_count": 34
        }
      ]
    },
    {
      "cell_type": "markdown",
      "source": [
        "## Label 데이터 검증"
      ],
      "metadata": {
        "id": "L-5g6K6eMeya"
      }
    },
    {
      "cell_type": "code",
      "source": [
        "def print_faceExp_count(counts, emotion):\n",
        "    print(f\"Counts for emotion '{emotion}'\")\n",
        "    print(f\"  Zero annotation same   : {counts['zero']}\")\n",
        "    print(f\"  One annotation same    : {counts['one']}\")\n",
        "    print(f\"  Two annotations same   : {counts['two']}\")\n",
        "    print(f\"  Three annotations same : {counts['three']}\")\n",
        "    print(f\"  Sum of two, three : {counts['two'] + counts['three']}\")\n",
        "    print(f\"  Sum of all        : {counts['zero'] + counts['one'] + counts['two'] + counts['three']}\")\n",
        "\n",
        "def verify_faceExp_consistent(label, emotion):\n",
        "  counts = {'zero': 0, 'one': 0, 'two': 0, 'three': 0}\n",
        "  verified_data = []\n",
        "\n",
        "  for i in range(len(label)):\n",
        "    emotion_count = 0\n",
        "    for annot in ['annot_A', 'annot_B', 'annot_C']:\n",
        "      if label[i][annot]['faceExp'] == emotion:\n",
        "        emotion_count += 1\n",
        "\n",
        "    if emotion_count == 1:\n",
        "      counts['one'] += 1\n",
        "    elif emotion_count == 2:\n",
        "      counts['two'] += 1\n",
        "      verified_data.append(label[i])\n",
        "    elif emotion_count == 3:\n",
        "      counts['three'] += 1\n",
        "      verified_data.append(label[i])\n",
        "    else :\n",
        "      counts['zero'] += 1\n",
        "\n",
        "\n",
        "  print_faceExp_count(counts, emotion)\n",
        "\n",
        "  return verified_data"
      ],
      "metadata": {
        "id": "t9Oa0W8yPKho"
      },
      "execution_count": null,
      "outputs": []
    },
    {
      "cell_type": "code",
      "source": [
        "verified_anger = verify_faceExp_consistent(anger_label, '분노')\n",
        "verified_happy = verify_faceExp_consistent(happy_label, '기쁨')\n",
        "verified_panic = verify_faceExp_consistent(panic_label, '당황')\n",
        "verified_sadness = verify_faceExp_consistent(sadness_label, '슬픔')"
      ],
      "metadata": {
        "colab": {
          "base_uri": "https://localhost:8080/"
        },
        "id": "Ebc9V5EaWt3Y",
        "outputId": "f9279ffd-b959-422f-c9e9-e857774f6e6d"
      },
      "execution_count": null,
      "outputs": [
        {
          "output_type": "stream",
          "name": "stdout",
          "text": [
            "Counts for emotion '분노'\n",
            "  Zero annotation same   : 151\n",
            "  One annotation same    : 231\n",
            "  Two annotations same   : 398\n",
            "  Three annotations same : 720\n",
            "  Sum of two, three : 1118\n",
            "  Sum of all        : 1500\n",
            "Counts for emotion '기쁨'\n",
            "  Zero annotation same   : 7\n",
            "  One annotation same    : 13\n",
            "  Two annotations same   : 76\n",
            "  Three annotations same : 1398\n",
            "  Sum of two, three : 1474\n",
            "  Sum of all        : 1494\n",
            "Counts for emotion '당황'\n",
            "  Zero annotation same   : 170\n",
            "  One annotation same    : 228\n",
            "  Two annotations same   : 386\n",
            "  Three annotations same : 716\n",
            "  Sum of two, three : 1102\n",
            "  Sum of all        : 1500\n",
            "Counts for emotion '슬픔'\n",
            "  Zero annotation same   : 146\n",
            "  One annotation same    : 234\n",
            "  Two annotations same   : 414\n",
            "  Three annotations same : 706\n",
            "  Sum of two, three : 1120\n",
            "  Sum of all        : 1500\n"
          ]
        }
      ]
    },
    {
      "cell_type": "code",
      "source": [
        "print(len(verified_anger))\n",
        "print(len(verified_happy))\n",
        "print(len(verified_panic))\n",
        "print(len(verified_sadness))"
      ],
      "metadata": {
        "colab": {
          "base_uri": "https://localhost:8080/"
        },
        "id": "vk1ICrcRe3o9",
        "outputId": "3968ac53-9df0-422f-8467-b4f2e3016f02"
      },
      "execution_count": null,
      "outputs": [
        {
          "output_type": "stream",
          "name": "stdout",
          "text": [
            "1118\n",
            "1474\n",
            "1102\n",
            "1120\n"
          ]
        }
      ]
    },
    {
      "cell_type": "code",
      "source": [
        "anger = verified_anger[:1102]\n",
        "happy = verified_happy[:1102]\n",
        "panic = verified_panic\n",
        "sadness = verified_sadness[:1102]"
      ],
      "metadata": {
        "id": "4dwKP-FigVnq"
      },
      "execution_count": null,
      "outputs": []
    },
    {
      "cell_type": "code",
      "source": [
        "print(len(anger))\n",
        "print(len(happy))\n",
        "print(len(panic))\n",
        "print(len(sadness))"
      ],
      "metadata": {
        "colab": {
          "base_uri": "https://localhost:8080/"
        },
        "id": "U6gqbpLcgw2W",
        "outputId": "1b4f3214-4d77-4fd4-8c4c-5f5f67a48911"
      },
      "execution_count": null,
      "outputs": [
        {
          "output_type": "stream",
          "name": "stdout",
          "text": [
            "1102\n",
            "1102\n",
            "1102\n",
            "1102\n"
          ]
        }
      ]
    },
    {
      "cell_type": "code",
      "source": [
        "def zero_same_data(label, emotion):\n",
        "  counts = {'zero': 0, 'one': 0, 'two': 0, 'three': 0}\n",
        "  zero_same_data = []\n",
        "\n",
        "  for i in range(len(label)):\n",
        "    emotion_count = 0\n",
        "    for annot in ['annot_A', 'annot_B', 'annot_C']:\n",
        "      if label[i][annot]['faceExp'] == emotion:\n",
        "        emotion_count += 1\n",
        "\n",
        "    if emotion_count == 1:\n",
        "      counts['one'] += 1\n",
        "    elif emotion_count == 2:\n",
        "      counts['two'] += 1\n",
        "    elif emotion_count == 3:\n",
        "      counts['three'] += 1\n",
        "    else :\n",
        "      counts['zero'] += 1\n",
        "      zero_same_data.append(label[i])\n",
        "\n",
        "  return zero_same_data\n",
        "\n",
        "def one_same_data(label, emotion):\n",
        "  counts = {'zero': 0, 'one': 0, 'two': 0, 'three': 0}\n",
        "  one_same_data = []\n",
        "\n",
        "  for i in range(len(label)):\n",
        "    emotion_count = 0\n",
        "    for annot in ['annot_A', 'annot_B', 'annot_C']:\n",
        "      if label[i][annot]['faceExp'] == emotion:\n",
        "        emotion_count += 1\n",
        "\n",
        "    if emotion_count == 1:\n",
        "      counts['one'] += 1\n",
        "      one_same_data.append(label[i])\n",
        "    elif emotion_count == 2:\n",
        "      counts['two'] += 1\n",
        "    elif emotion_count == 3:\n",
        "      counts['three'] += 1\n",
        "    else :\n",
        "      counts['zero'] += 1\n",
        "\n",
        "  return one_same_data"
      ],
      "metadata": {
        "id": "NMOVOOTFi2XZ"
      },
      "execution_count": null,
      "outputs": []
    },
    {
      "cell_type": "code",
      "source": [
        "zero_happy = zero_same_data(happy_label, '기쁨')\n",
        "zero_happy[1]"
      ],
      "metadata": {
        "colab": {
          "base_uri": "https://localhost:8080/"
        },
        "id": "mCeKWxHni64S",
        "outputId": "e4b11ba4-cf99-472f-d11c-caa1b53ef8d3"
      },
      "execution_count": null,
      "outputs": [
        {
          "output_type": "execute_result",
          "data": {
            "text/plain": [
              "{'filename': 'xxjn1335371d6703771e91719e943b39153b1a75d33ab95e5e313937733e19hk7.jpg',\n",
              " 'gender': '여',\n",
              " 'age': 30,\n",
              " 'isProf': '전문인',\n",
              " 'faceExp_uploader': '기쁨',\n",
              " 'bg_uploader': '도심 환경',\n",
              " 'annot_A': {'boxes': {'maxX': 1501.7095146654235,\n",
              "   'maxY': 1416.6990820693138,\n",
              "   'minX': 895.597578693162,\n",
              "   'minY': 675.59858956927},\n",
              "  'faceExp': '중립',\n",
              "  'bg': '도심 환경'},\n",
              " 'annot_B': {'boxes': {'maxX': 1496.3098907988583,\n",
              "   'maxY': 1405.1842129761724,\n",
              "   'minX': 902.0550151606172,\n",
              "   'minY': 584.7421034219666},\n",
              "  'faceExp': '중립',\n",
              "  'bg': '도심 환경'},\n",
              " 'annot_C': {'boxes': {'maxX': 1495.6253924954503,\n",
              "   'maxY': 1408.4377476786817,\n",
              "   'minX': 903.6836405141509,\n",
              "   'minY': 578.9118476786821},\n",
              "  'faceExp': '상처',\n",
              "  'bg': '도심 환경'}}"
            ]
          },
          "metadata": {},
          "execution_count": 216
        }
      ]
    },
    {
      "cell_type": "code",
      "source": [
        "one_happy = one_same_data(happy_label, '기쁨')\n",
        "one_happy[5]"
      ],
      "metadata": {
        "colab": {
          "base_uri": "https://localhost:8080/"
        },
        "id": "YUk6h_BvjKfe",
        "outputId": "51f36854-fcc5-4747-887d-783ffff62112"
      },
      "execution_count": null,
      "outputs": [
        {
          "output_type": "execute_result",
          "data": {
            "text/plain": [
              "{'filename': 'o3in6970e07f3180015d39ee8057fbe21a30d129907399256b881f3751b9aei1j.jpg',\n",
              " 'gender': '여',\n",
              " 'age': 40,\n",
              " 'isProf': '일반인',\n",
              " 'faceExp_uploader': '기쁨',\n",
              " 'bg_uploader': '숙박 및 거주공간',\n",
              " 'annot_A': {'boxes': {'maxX': 1514.8306,\n",
              "   'maxY': 1037.7047,\n",
              "   'minX': 883.17487,\n",
              "   'minY': 173.07979999999998},\n",
              "  'faceExp': '기쁨',\n",
              "  'bg': '숙박 및 거주공간'},\n",
              " 'annot_B': {'boxes': {'maxX': 1502.9761544299538,\n",
              "   'maxY': 1047.1407987070381,\n",
              "   'minX': 892.6423116902408,\n",
              "   'minY': 139.75835136853664},\n",
              "  'faceExp': '기쁨',\n",
              "  'bg': '숙박 및 거주공간'},\n",
              " 'annot_C': {'boxes': {'maxX': 1514.8306000000002,\n",
              "   'maxY': 1044.8701887314303,\n",
              "   'minX': 883.17487,\n",
              "   'minY': 180.24528873143032},\n",
              "  'faceExp': '불안',\n",
              "  'bg': '숙박 및 거주공간'}}"
            ]
          },
          "metadata": {},
          "execution_count": 218
        }
      ]
    }
  ]
}