{
 "cells": [
  {
   "cell_type": "code",
   "execution_count": 18,
   "metadata": {},
   "outputs": [],
   "source": [
    "import tensorflow as tf\n",
    "from tensorflow.keras.preprocessing.image import ImageDataGenerator\n",
    "import os\n",
    "from tensorflow.keras.applications import EfficientNetB0\n",
    "from tensorflow.keras.models import Sequential\n",
    "from tensorflow.keras.layers import Dense, GlobalAveragePooling2D, Dropout\n",
    "from tensorflow.keras.callbacks import ReduceLROnPlateau\n",
    "from tensorflow.keras.regularizers import l2"
   ]
  },
  {
   "cell_type": "code",
   "execution_count": 13,
   "metadata": {},
   "outputs": [],
   "source": [
    "base_dir = 'img/img/'\n",
    "train_dir = os.path.join(base_dir, 'train')\n",
    "val_dir = os.path.join(base_dir, 'val')"
   ]
  },
  {
   "cell_type": "code",
   "execution_count": 14,
   "metadata": {},
   "outputs": [],
   "source": [
    "train_datagen = ImageDataGenerator(\n",
    "    rescale=1./255,\n",
    "    rotation_range=20,\n",
    "    width_shift_range=0.2,\n",
    "    height_shift_range=0.2,\n",
    "    shear_range=0.2,\n",
    "    zoom_range=0.2,\n",
    "    horizontal_flip=True,\n",
    "    fill_mode='nearest'\n",
    ")\n",
    "\n",
    "val_datagen = ImageDataGenerator(rescale=1./255)"
   ]
  },
  {
   "cell_type": "code",
   "execution_count": 15,
   "metadata": {},
   "outputs": [
    {
     "name": "stdout",
     "output_type": "stream",
     "text": [
      "Found 5995 images belonging to 4 classes.\n",
      "Found 1200 images belonging to 4 classes.\n"
     ]
    }
   ],
   "source": [
    "train_generator = train_datagen.flow_from_directory(\n",
    "    train_dir,\n",
    "    target_size=(224, 224),\n",
    "    batch_size=32,\n",
    "    class_mode='categorical'\n",
    ")\n",
    "\n",
    "val_generator = val_datagen.flow_from_directory(\n",
    "    val_dir,\n",
    "    target_size=(224, 224),\n",
    "    batch_size=32,\n",
    "    class_mode='categorical'\n",
    ")"
   ]
  },
  {
   "cell_type": "code",
   "execution_count": 16,
   "metadata": {},
   "outputs": [],
   "source": [
    "base_model = EfficientNetB0(weights='imagenet', include_top=False, input_shape=(224, 224, 3))"
   ]
  },
  {
   "cell_type": "code",
   "execution_count": 19,
   "metadata": {},
   "outputs": [],
   "source": [
    "model = Sequential([\n",
    "    base_model,\n",
    "    GlobalAveragePooling2D(),\n",
    "    Dropout(0.5),\n",
    "    Dense(4, activation='softmax', kernel_regularizer=l2(0.01))  # L2 정규화 추가\n",
    "])"
   ]
  },
  {
   "cell_type": "code",
   "execution_count": 20,
   "metadata": {},
   "outputs": [],
   "source": [
    "model.compile(optimizer='adam',\n",
    "              loss='categorical_crossentropy',\n",
    "              metrics=['accuracy'])"
   ]
  },
  {
   "cell_type": "code",
   "execution_count": 21,
   "metadata": {},
   "outputs": [
    {
     "name": "stdout",
     "output_type": "stream",
     "text": [
      "Epoch 1/10\n",
      "187/187 [==============================] - 454s 2s/step - loss: 1.0834 - accuracy: 0.5606 - val_loss: 1.4555 - val_accuracy: 0.2508 - lr: 0.0010\n",
      "Epoch 2/10\n",
      "187/187 [==============================] - 440s 2s/step - loss: 0.7295 - accuracy: 0.7342 - val_loss: 1.4495 - val_accuracy: 0.2483 - lr: 0.0010\n",
      "Epoch 3/10\n",
      "187/187 [==============================] - 437s 2s/step - loss: 0.6403 - accuracy: 0.7667 - val_loss: 1.4791 - val_accuracy: 0.2525 - lr: 0.0010\n",
      "Epoch 4/10\n",
      "187/187 [==============================] - 424s 2s/step - loss: 0.5737 - accuracy: 0.7905 - val_loss: 1.4307 - val_accuracy: 0.2635 - lr: 0.0010\n",
      "Epoch 5/10\n",
      "187/187 [==============================] - 425s 2s/step - loss: 0.5214 - accuracy: 0.8123 - val_loss: 1.5249 - val_accuracy: 0.2500 - lr: 0.0010\n",
      "Epoch 6/10\n",
      "187/187 [==============================] - 424s 2s/step - loss: 0.4918 - accuracy: 0.8202 - val_loss: 4677.9229 - val_accuracy: 0.2340 - lr: 0.0010\n",
      "Epoch 7/10\n",
      "187/187 [==============================] - 425s 2s/step - loss: 0.4375 - accuracy: 0.8469 - val_loss: 1.5032 - val_accuracy: 0.2500 - lr: 0.0010\n",
      "Epoch 8/10\n",
      "187/187 [==============================] - 432s 2s/step - loss: 0.3287 - accuracy: 0.8905 - val_loss: 1.4245 - val_accuracy: 0.2576 - lr: 2.0000e-04\n",
      "Epoch 9/10\n",
      "187/187 [==============================] - 427s 2s/step - loss: 0.2798 - accuracy: 0.9029 - val_loss: 1.3858 - val_accuracy: 0.3150 - lr: 2.0000e-04\n",
      "Epoch 10/10\n",
      "187/187 [==============================] - 435s 2s/step - loss: 0.2584 - accuracy: 0.9104 - val_loss: 1.0171 - val_accuracy: 0.6064 - lr: 2.0000e-04\n"
     ]
    }
   ],
   "source": [
    "# 학습률 감소 콜백 설정\n",
    "reduce_lr = ReduceLROnPlateau(monitor='val_loss', factor=0.2, patience=3, min_lr=0.00001)\n",
    "\n",
    "# 모델 학습\n",
    "history = model.fit(\n",
    "    train_generator,\n",
    "    steps_per_epoch=train_generator.samples // train_generator.batch_size,\n",
    "    validation_data=val_generator,\n",
    "    validation_steps=val_generator.samples // val_generator.batch_size,\n",
    "    epochs=10,\n",
    "    callbacks=[reduce_lr]\n",
    ")"
   ]
  },
  {
   "cell_type": "code",
   "execution_count": 22,
   "metadata": {},
   "outputs": [
    {
     "name": "stdout",
     "output_type": "stream",
     "text": [
      "38/38 [==============================] - 40s 1s/step - loss: 1.0194 - accuracy: 0.6042\n",
      "Validation Loss: 1.019365668296814\n",
      "Validation Accuracy: 0.6041666865348816\n"
     ]
    }
   ],
   "source": [
    "loss, accuracy = model.evaluate(val_generator)\n",
    "print(f'Validation Loss: {loss}')\n",
    "print(f'Validation Accuracy: {accuracy}')"
   ]
  }
 ],
 "metadata": {
  "kernelspec": {
   "display_name": "Python 3",
   "language": "python",
   "name": "python3"
  },
  "language_info": {
   "codemirror_mode": {
    "name": "ipython",
    "version": 3
   },
   "file_extension": ".py",
   "mimetype": "text/x-python",
   "name": "python",
   "nbconvert_exporter": "python",
   "pygments_lexer": "ipython3",
   "version": "3.10.9"
  }
 },
 "nbformat": 4,
 "nbformat_minor": 2
}
