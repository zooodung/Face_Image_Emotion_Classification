# img_crop_by_seg


'''
----- train -----
'''
import numpy as np
import cv2
import os

def load_and_process_images(npz_path, base_img_path, output_path):
    # .npz 파일 로드
    data = np.load(npz_path, allow_pickle=True)
    
    # 출력 폴더 생성 (없을 경우)
    if not os.path.exists(output_path):
        os.makedirs(output_path)
    
    # 각 파일에 대해 처리
    for filename in data.files:
        # 이미지 로드
        image_path = os.path.join(base_img_path, filename)
        img = cv2.imread(image_path)
        
        # 세그멘테이션 정보 로드
        segment = data[filename]
        
        # 얼굴 영역만 True인 마스크 생성
        mask = segment == 3
        
        # 마스크 적용하여 얼굴 영역 추출
        face_img = np.zeros_like(img)
        face_img[mask] = img[mask]
        
        # 얼굴 영역에서 최소/최대 x, y 좌표 추출
        y_indices, x_indices = np.where(mask)
        min_x, max_x = x_indices.min(), x_indices.max()
        min_y, max_y = y_indices.min(), y_indices.max()
        
        # 추출된 좌표를 사용하여 얼굴 이미지 자르기
        cropped_face = img[min_y:max_y, min_x:max_x]
        
        # 자른 이미지를 500x500으로 크기 조정
        resized_face = cv2.resize(cropped_face, (500, 500), interpolation=cv2.INTER_AREA)
        
        # 이미지 저장
        output_file_path = os.path.join(output_path, filename)
        cv2.imwrite(output_file_path, resized_face)

# 각각의 감정 유형에 대한 설정 및 처리
emotions = ['anger', 'happy', 'panic', 'sadness']
for emotion in emotions:
    print(emotion)
    npz_path = f'../data/segmentation/train/train_{emotion}.npz'  # npz 파일 경로
    base_img_path = f'../data/img/train/{emotion}/'  # 원본 이미지 저장 폴더
    output_path = f'../data/crop/train/{emotion}/'  # 자른 이미지 저장 폴더

    # 이미지 처리 및 저장
    load_and_process_images(npz_path, base_img_path, output_path)



'''
----- val -----
'''
import numpy as np
import cv2
import os

def load_and_process_images(npz_path, base_img_path, output_path):
    # .npz 파일 로드
    data = np.load(npz_path, allow_pickle=True)
    
    # 출력 폴더 생성 (없을 경우)
    if not os.path.exists(output_path):
        os.makedirs(output_path)
    
    # 각 파일에 대해 처리
    for filename in data.files:
        # 이미지 로드
        image_path = os.path.join(base_img_path, filename)
        img = cv2.imread(image_path)
        
        # 세그멘테이션 정보 로드
        segment = data[filename]
        
        # 얼굴 영역만 True인 마스크 생성
        mask = segment == 3
        
        # 마스크 적용하여 얼굴 영역 추출
        face_img = np.zeros_like(img)
        face_img[mask] = img[mask]
        
        # 얼굴 영역에서 최소/최대 x, y 좌표 추출
        y_indices, x_indices = np.where(mask)
        min_x, max_x = x_indices.min(), x_indices.max()
        min_y, max_y = y_indices.min(), y_indices.max()
        
        # 추출된 좌표를 사용하여 얼굴 이미지 자르기
        cropped_face = img[min_y:max_y, min_x:max_x]
        
        # 자른 이미지를 500x500으로 크기 조정
        resized_face = cv2.resize(cropped_face, (500, 500), interpolation=cv2.INTER_AREA)
        
        # 이미지 저장
        output_file_path = os.path.join(output_path, filename)
        cv2.imwrite(output_file_path, resized_face)

# 각각의 감정 유형에 대한 설정 및 처리
emotions = ['anger', 'happy', 'panic', 'sadness']
for emotion in emotions:
    print(emotion)
    npz_path = f'../data/segmentation/val/val_{emotion}.npz'  # npz 파일 경로
    base_img_path = f'../data/img/val/{emotion}/'  # 원본 이미지 저장 폴더
    output_path = f'../data/crop/val/{emotion}/'  # 자른 이미지 저장 폴더

    # 이미지 처리 및 저장
    load_and_process_images(npz_path, base_img_path, output_path)
